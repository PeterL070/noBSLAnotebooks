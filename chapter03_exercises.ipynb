{
 "cells": [
  {
   "cell_type": "markdown",
   "metadata": {
    "collapsed": true
   },
   "source": [
    "# 3/ Exercises solutions"
   ]
  },
  {
   "cell_type": "code",
   "execution_count": 1,
   "metadata": {},
   "outputs": [],
   "source": [
    "# helper code needed for running in colab\n",
    "if 'google.colab' in str(get_ipython()):\n",
    "    print('Downloading plot_helpers.py to util/ (only neded for colab')\n",
    "    !mkdir util; wget https://raw.githubusercontent.com/minireference/noBSLAnotebooks/master/util/plot_helpers.py -P util"
   ]
  },
  {
   "cell_type": "code",
   "execution_count": 2,
   "metadata": {},
   "outputs": [],
   "source": [
    "from sympy import *\n",
    "init_printing()\n",
    "\n",
    "%matplotlib inline\n",
    "import matplotlib.pyplot as mpl\n",
    "from util.plot_helpers import plot_augmat # helper function"
   ]
  },
  {
   "cell_type": "markdown",
   "metadata": {},
   "source": [
    "## RREF exercises"
   ]
  },
  {
   "cell_type": "markdown",
   "metadata": {},
   "source": [
    "### E3.1"
   ]
  },
  {
   "cell_type": "code",
   "execution_count": 3,
   "metadata": {},
   "outputs": [
    {
     "data": {
      "image/png": "[encoded data removed]",
      "text/latex": [
       "$\\displaystyle \\left[\\begin{matrix}3 & 3 & 6\\\\2 & \\frac{3}{2} & 5\\end{matrix}\\right]$"
      ],
      "text/plain": [
       "⎡3   3   6⎤\n",
       "⎢         ⎥\n",
       "⎣2  3/2  5⎦"
      ]
     },
     "execution_count": 3,
     "metadata": {},
     "output_type": "execute_result"
    }
   ],
   "source": [
    "AUG = Matrix([\n",
    "  [3,      3,  6],\n",
    "  [2, S(3)/2,  5]])\n",
    "AUG"
   ]
  },
  {
   "cell_type": "code",
   "execution_count": 4,
   "metadata": {},
   "outputs": [
    {
     "data": {
      "image/png": "[encoded data removed]",
      "text/latex": [
       "$\\displaystyle \\left( \\left[\\begin{matrix}1 & 0 & 4\\\\0 & 1 & -2\\end{matrix}\\right], \\  \\left( 0, \\  1\\right)\\right)$"
      ],
      "text/plain": [
       "⎛⎡1  0  4 ⎤        ⎞\n",
       "⎜⎢        ⎥, (0, 1)⎟\n",
       "⎝⎣0  1  -2⎦        ⎠"
      ]
     },
     "execution_count": 4,
     "metadata": {},
     "output_type": "execute_result"
    }
   ],
   "source": [
    "AUG.rref()\n",
    "# solution is x=4, y=-2"
   ]
  },
  {
   "cell_type": "markdown",
   "metadata": {},
   "source": [
    "### Verify the solution geometrically"
   ]
  },
  {
   "cell_type": "code",
   "execution_count": 5,
   "metadata": {},
   "outputs": [
    {
     "name": "stdout",
     "output_type": "stream",
     "text": [
      "Line 1:  3x +3y = 6\n",
      "Line 2:  2x +1y = 5\n"
     ]
    },
    {
     "data": {
      "image/png": "[encoded data removed]",
      "text/plain": [
       "<Figure size 432x288 with 1 Axes>"
      ]
     },
     "metadata": {
      "needs_background": "light"
     },
     "output_type": "display_data"
    }
   ],
   "source": [
    "AUG = Matrix([\n",
    "  [3,      3,   6],\n",
    "  [2, S(3)/2,   5]])\n",
    "\n",
    "fig = mpl.figure()\n",
    "plot_augmat(AUG)\n",
    "# the solution (4,-2) is where the two lines intersect"
   ]
  },
  {
   "cell_type": "markdown",
   "metadata": {},
   "source": [
    "### E3.2"
   ]
  },
  {
   "cell_type": "code",
   "execution_count": 6,
   "metadata": {},
   "outputs": [
    {
     "data": {
      "image/png": "[encoded data removed]",
      "text/latex": [
       "$\\displaystyle \\left[\\begin{matrix}3 & 3 & 6\\\\2 & \\frac{3}{2} & 5\\end{matrix}\\right]$"
      ],
      "text/plain": [
       "⎡3   3   6⎤\n",
       "⎢         ⎥\n",
       "⎣2  3/2  5⎦"
      ]
     },
     "execution_count": 6,
     "metadata": {},
     "output_type": "execute_result"
    }
   ],
   "source": [
    "A = Matrix([\n",
    "         [3,      3,   6],\n",
    "         [2, S(3)/2,   5]])\n",
    "A"
   ]
  },
  {
   "cell_type": "code",
   "execution_count": 7,
   "metadata": {},
   "outputs": [
    {
     "data": {
      "image/png": "[encoded data removed]",
      "text/latex": [
       "$\\displaystyle \\left[\\begin{matrix}1 & 1 & 2\\\\2 & \\frac{3}{2} & 5\\end{matrix}\\right]$"
      ],
      "text/plain": [
       "⎡1   1   2⎤\n",
       "⎢         ⎥\n",
       "⎣2  3/2  5⎦"
      ]
     },
     "execution_count": 7,
     "metadata": {},
     "output_type": "execute_result"
    }
   ],
   "source": [
    "# First row operation:  R1  <-- 1/3*R1\n",
    "A[0,:] = A[0,:]/3\n",
    "A"
   ]
  },
  {
   "cell_type": "code",
   "execution_count": 8,
   "metadata": {},
   "outputs": [
    {
     "data": {
      "image/png": "[encoded data removed]",
      "text/latex": [
       "$\\displaystyle \\left[\\begin{matrix}1 & 1 & 2\\\\0 & - \\frac{1}{2} & 1\\end{matrix}\\right]$"
      ],
      "text/plain": [
       "⎡1   1    2⎤\n",
       "⎢          ⎥\n",
       "⎣0  -1/2  1⎦"
      ]
     },
     "execution_count": 8,
     "metadata": {},
     "output_type": "execute_result"
    }
   ],
   "source": [
    "# Second row operation:  R2  <-- R2 - 2*R1\n",
    "A[1,:] = A[1,:] - 2*A[0,:]\n",
    "A"
   ]
  },
  {
   "cell_type": "code",
   "execution_count": 9,
   "metadata": {},
   "outputs": [
    {
     "data": {
      "image/png": "[encoded data removed]",
      "text/latex": [
       "$\\displaystyle \\left[\\begin{matrix}1 & 1 & 2\\\\0 & 1 & -2\\end{matrix}\\right]$"
      ],
      "text/plain": [
       "⎡1  1  2 ⎤\n",
       "⎢        ⎥\n",
       "⎣0  1  -2⎦"
      ]
     },
     "execution_count": 9,
     "metadata": {},
     "output_type": "execute_result"
    }
   ],
   "source": [
    "# Third row operation:  R2  <-- -2*R2\n",
    "A[1,:] = -2*A[1,:]\n",
    "A"
   ]
  },
  {
   "cell_type": "code",
   "execution_count": 10,
   "metadata": {},
   "outputs": [
    {
     "data": {
      "image/png": "[encoded data removed]",
      "text/latex": [
       "$\\displaystyle \\left[\\begin{matrix}1 & 0 & 4\\\\0 & 1 & -2\\end{matrix}\\right]$"
      ],
      "text/plain": [
       "⎡1  0  4 ⎤\n",
       "⎢        ⎥\n",
       "⎣0  1  -2⎦"
      ]
     },
     "execution_count": 10,
     "metadata": {},
     "output_type": "execute_result"
    }
   ],
   "source": [
    "# Fourth row operation:  R1  <-- R1 - R2\n",
    "A[0,:] = A[0,:] - A[1,:]\n",
    "A"
   ]
  },
  {
   "cell_type": "markdown",
   "metadata": {},
   "source": [
    "### E3.3"
   ]
  },
  {
   "cell_type": "code",
   "execution_count": 11,
   "metadata": {},
   "outputs": [
    {
     "data": {
      "image/png": "[encoded data removed]",
      "text/latex": [
       "$\\displaystyle \\left( \\left[\\begin{matrix}1 & 1 & 0\\\\0 & 0 & 1\\end{matrix}\\right], \\  \\left( 0, \\  2\\right)\\right)$"
      ],
      "text/plain": [
       "⎛⎡1  1  0⎤        ⎞\n",
       "⎜⎢       ⎥, (0, 2)⎟\n",
       "⎝⎣0  0  1⎦        ⎠"
      ]
     },
     "execution_count": 11,
     "metadata": {},
     "output_type": "execute_result"
    }
   ],
   "source": [
    "AUGA = Matrix([\n",
    " [3, 3,   6],\n",
    " [1, 1,   5]])\n",
    "AUGA.rref()\n",
    "# no solutions since second row   0x+0y == 1  is impossible"
   ]
  },
  {
   "cell_type": "code",
   "execution_count": 12,
   "metadata": {},
   "outputs": [
    {
     "name": "stdout",
     "output_type": "stream",
     "text": [
      "Line 1:  3x +3y = 6\n",
      "Line 2:  1x +1y = 5\n"
     ]
    },
    {
     "data": {
      "image/png": "[encoded data removed]",
      "text/plain": [
       "<Figure size 432x288 with 1 Axes>"
      ]
     },
     "metadata": {
      "needs_background": "light"
     },
     "output_type": "display_data"
    }
   ],
   "source": [
    "# verify geomtetrically\n",
    "AUGA = Matrix([\n",
    " [3, 3,   6],\n",
    " [1, 1,   5]])\n",
    "\n",
    "fig = mpl.figure()\n",
    "plot_augmat(AUGA)\n",
    "# no solution since lines two lines are parallel"
   ]
  },
  {
   "cell_type": "code",
   "execution_count": null,
   "metadata": {},
   "outputs": [],
   "source": []
  },
  {
   "cell_type": "code",
   "execution_count": 13,
   "metadata": {},
   "outputs": [
    {
     "data": {
      "image/png": "[encoded data removed]",
      "text/latex": [
       "$\\displaystyle \\left( \\left[\\begin{matrix}1 & 0 & 0\\\\0 & 1 & 2\\end{matrix}\\right], \\  \\left( 0, \\  1\\right)\\right)$"
      ],
      "text/plain": [
       "⎛⎡1  0  0⎤        ⎞\n",
       "⎜⎢       ⎥, (0, 1)⎟\n",
       "⎝⎣0  1  2⎦        ⎠"
      ]
     },
     "execution_count": 13,
     "metadata": {},
     "output_type": "execute_result"
    }
   ],
   "source": [
    "AUGB = Matrix([\n",
    "  [3,      3,    6],\n",
    "  [2, S(3)/2,    3]])\n",
    "AUGB.rref()\n",
    "# one solution x=0, y=2"
   ]
  },
  {
   "cell_type": "code",
   "execution_count": 14,
   "metadata": {},
   "outputs": [
    {
     "name": "stdout",
     "output_type": "stream",
     "text": [
      "Line 1:  3x +3y = 6\n",
      "Line 2:  2x +1y = 3\n"
     ]
    },
    {
     "data": {
      "image/png": "[encoded data removed]",
      "text/plain": [
       "<Figure size 432x288 with 1 Axes>"
      ]
     },
     "metadata": {
      "needs_background": "light"
     },
     "output_type": "display_data"
    }
   ],
   "source": [
    "# verify geomtetrically\n",
    "AUGB = Matrix([\n",
    "  [3,      3,   6],\n",
    "  [2, S(3)/2,   3]])\n",
    "\n",
    "fig = mpl.figure()\n",
    "plot_augmat(AUGB)\n",
    "# the solution (0,2) is where the two lines intersect"
   ]
  },
  {
   "cell_type": "code",
   "execution_count": 15,
   "metadata": {},
   "outputs": [
    {
     "data": {
      "image/png": "[encoded data removed]",
      "text/latex": [
       "$\\displaystyle \\left( \\left[\\begin{matrix}1 & 1 & 2\\\\0 & 0 & 0\\end{matrix}\\right], \\  \\left( 0,\\right)\\right)$"
      ],
      "text/plain": [
       "⎛⎡1  1  2⎤      ⎞\n",
       "⎜⎢       ⎥, (0,)⎟\n",
       "⎝⎣0  0  0⎦      ⎠"
      ]
     },
     "execution_count": 15,
     "metadata": {},
     "output_type": "execute_result"
    }
   ],
   "source": [
    "AUGC = Matrix([\n",
    "  [3, 3,  6],\n",
    "  [1, 1,  2]])\n",
    "AUGC.rref()\n",
    "# infinitely many soln's of the form  point + s*dir, for s in \\mathbb{R}"
   ]
  },
  {
   "cell_type": "code",
   "execution_count": 16,
   "metadata": {},
   "outputs": [],
   "source": [
    "# to complete the solution,\n",
    "# observe the second column is a free varible y = s \n",
    "# and thus we have these equations:\n",
    "#   x +  s = 2\n",
    "#  0x + 0s = 0   (trivial eqn.)\n",
    "#        y = s   (def'n of free variable)\n",
    "# thus solution is:\n",
    "#      [x,y]  =  [2-s,s]  =  [2,0] + s*[-1,1]     for s in \\mathbb{R}"
   ]
  },
  {
   "cell_type": "code",
   "execution_count": 17,
   "metadata": {},
   "outputs": [
    {
     "name": "stdout",
     "output_type": "stream",
     "text": [
      "Line 1:  3x +3y = 6\n",
      "Line 2:  1x +1y = 2\n"
     ]
    },
    {
     "data": {
      "image/png": "[encoded data removed]",
      "text/plain": [
       "<Figure size 432x288 with 1 Axes>"
      ]
     },
     "metadata": {
      "needs_background": "light"
     },
     "output_type": "display_data"
    }
   ],
   "source": [
    "# verify geomtetrically\n",
    "AUGC = Matrix([\n",
    "  [3, 3,  6],\n",
    "  [1, 1,  2]])\n",
    "\n",
    "fig = mpl.figure()\n",
    "plot_augmat(AUGC)\n",
    "# the solution is infinite since two lines are the same"
   ]
  },
  {
   "cell_type": "code",
   "execution_count": null,
   "metadata": {},
   "outputs": [],
   "source": []
  },
  {
   "cell_type": "code",
   "execution_count": null,
   "metadata": {},
   "outputs": [],
   "source": []
  },
  {
   "cell_type": "markdown",
   "metadata": {},
   "source": [
    "## Matrix equations"
   ]
  },
  {
   "cell_type": "code",
   "execution_count": null,
   "metadata": {},
   "outputs": [],
   "source": []
  },
  {
   "cell_type": "code",
   "execution_count": null,
   "metadata": {},
   "outputs": [],
   "source": []
  },
  {
   "cell_type": "code",
   "execution_count": null,
   "metadata": {},
   "outputs": [],
   "source": []
  },
  {
   "cell_type": "code",
   "execution_count": null,
   "metadata": {},
   "outputs": [],
   "source": []
  },
  {
   "cell_type": "markdown",
   "metadata": {},
   "source": [
    "## Matrix product"
   ]
  },
  {
   "cell_type": "markdown",
   "metadata": {},
   "source": [
    "### E3.5\n",
    "\n",
    "Compute the following matrix products:\n",
    "$$\n",
    "P = \n",
    "\\begin{bmatrix} \t1&2 \\\\   3&4  \\end{bmatrix}\n",
    "\\begin{bmatrix} \t5&6 \\\\   7&8  \\end{bmatrix}\n",
    "\\quad\n",
    "\\textrm{and}\n",
    "\\quad\n",
    "Q = \n",
    "\\begin{bmatrix}\t\n",
    "3& 1 &  2&  2 \\\\ 0 & 2 & -2 & 1\n",
    "\\end{bmatrix}\\!\\!\t\t% \n",
    "\\begin{bmatrix}\n",
    "    -2 &  3 \\\\  \n",
    "    \\ \\ 1 &  0 \\\\  \n",
    "    -2 & \\!\\!-2 \\\\  \n",
    "    \\ \\ 2 &  2 \n",
    "  \\end{bmatrix}\\!.\n",
    "$$"
   ]
  },
  {
   "cell_type": "code",
   "execution_count": 18,
   "metadata": {},
   "outputs": [
    {
     "data": {
      "image/png": "[encoded data removed]",
      "text/latex": [
       "$\\displaystyle \\left[\\begin{matrix}19 & 22\\\\43 & 50\\end{matrix}\\right]$"
      ],
      "text/plain": [
       "⎡19  22⎤\n",
       "⎢      ⎥\n",
       "⎣43  50⎦"
      ]
     },
     "execution_count": 18,
     "metadata": {},
     "output_type": "execute_result"
    }
   ],
   "source": [
    "# define matrices\n",
    "P1 = Matrix([\n",
    "    [1, 2],\n",
    "    [3, 4]])\n",
    "P2 = Matrix([\n",
    "    [5, 6],\n",
    "    [7, 8]])\n",
    "\n",
    "# compute product\n",
    "P = P1*P2\n",
    "P"
   ]
  },
  {
   "cell_type": "code",
   "execution_count": 19,
   "metadata": {},
   "outputs": [
    {
     "data": {
      "image/png": "[encoded data removed]",
      "text/latex": [
       "$\\displaystyle \\left[\\begin{matrix}-5 & 9\\\\8 & 6\\end{matrix}\\right]$"
      ],
      "text/plain": [
       "⎡-5  9⎤\n",
       "⎢     ⎥\n",
       "⎣8   6⎦"
      ]
     },
     "execution_count": 19,
     "metadata": {},
     "output_type": "execute_result"
    }
   ],
   "source": [
    "# define matrices\n",
    "Q1 = Matrix([[3, 1,  2, 2],\n",
    "             [0, 2, -2, 1]])\n",
    "Q2 = Matrix([[-2,  3],\n",
    "             [ 1,  0],\n",
    "             [-2, -2],\n",
    "             [ 2,  2]])\n",
    "\n",
    "# compute product\n",
    "Q = Q1*Q2\n",
    "Q"
   ]
  },
  {
   "cell_type": "markdown",
   "metadata": {},
   "source": [
    "## Determinants"
   ]
  },
  {
   "cell_type": "code",
   "execution_count": null,
   "metadata": {},
   "outputs": [],
   "source": []
  },
  {
   "cell_type": "code",
   "execution_count": null,
   "metadata": {},
   "outputs": [],
   "source": []
  },
  {
   "cell_type": "code",
   "execution_count": null,
   "metadata": {},
   "outputs": [],
   "source": []
  },
  {
   "cell_type": "markdown",
   "metadata": {},
   "source": [
    "## Matrix inverse"
   ]
  },
  {
   "cell_type": "code",
   "execution_count": null,
   "metadata": {},
   "outputs": [],
   "source": []
  }
 ],
 "metadata": {
  "kernelspec": {
   "display_name": "Python 3",
   "language": "python",
   "name": "python3"
  },
  "language_info": {
   "codemirror_mode": {
    "name": "ipython",
    "version": 3
   },
   "file_extension": ".py",
   "mimetype": "text/x-python",
   "name": "python",
   "nbconvert_exporter": "python",
   "pygments_lexer": "ipython3",
   "version": "3.6.9"
  },
  "widgets": {
   "state": {},
   "version": "1.1.1"
  }
 },
 "nbformat": 4,
 "nbformat_minor": 1
}
