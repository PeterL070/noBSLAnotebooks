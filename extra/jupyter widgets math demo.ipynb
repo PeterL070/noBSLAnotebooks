{
 "cells": [
  {
   "cell_type": "markdown",
   "metadata": {},
   "source": [
    "You'll need to download this notebook to your computer, install these Python packages\n",
    "\n",
    "    jupyter matplotlib numpy pandas scipy seaborn sympy\n",
    "    \n",
    "then run this:\n",
    "\n",
    "    jupyter nbextension enable --py widgetsnbextensio\n",
    "\n"
   ]
  },
  {
   "cell_type": "code",
   "execution_count": 2,
   "metadata": {},
   "outputs": [],
   "source": [
    "from ipywidgets import widgets, interact\n",
    "\n",
    "%matplotlib inline\n",
    "import matplotlib.pyplot as plt\n",
    "from numpy import arange, sin"
   ]
  },
  {
   "cell_type": "code",
   "execution_count": 4,
   "metadata": {},
   "outputs": [
    {
     "data": {
      "application/vnd.jupyter.widget-view+json": {
       "model_id": "eeb60e9fa19f4324a5e171cb944806c8",
       "version_major": 2,
       "version_minor": 0
      },
      "text/plain": [
       "interactive(children=(FloatSlider(value=5.0, description='freq', max=10.0, min=1.0), Output()), _dom_classes=(…"
      ]
     },
     "metadata": {},
     "output_type": "display_data"
    },
    {
     "data": {
      "text/plain": [
       "<function __main__.pltsin(freq)>"
      ]
     },
     "execution_count": 4,
     "metadata": {},
     "output_type": "execute_result"
    }
   ],
   "source": [
    "t = arange(0,10,0.01)\n",
    "\n",
    "def pltsin(freq):\n",
    "    plt.plot(t, sin(freq*t))\n",
    "    plt.show()\n",
    "\n",
    "interact(pltsin, freq=(1,10,0.1))\n"
   ]
  },
  {
   "cell_type": "code",
   "execution_count": null,
   "metadata": {
    "collapsed": true
   },
   "outputs": [],
   "source": []
  },
  {
   "cell_type": "code",
   "execution_count": null,
   "metadata": {
    "collapsed": true
   },
   "outputs": [],
   "source": []
  }
 ],
 "metadata": {
  "kernelspec": {
   "display_name": "Python 3",
   "language": "python",
   "name": "python3"
  },
  "language_info": {
   "codemirror_mode": {
    "name": "ipython",
    "version": 3
   },
   "file_extension": ".py",
   "mimetype": "text/x-python",
   "name": "python",
   "nbconvert_exporter": "python",
   "pygments_lexer": "ipython3",
   "version": "3.6.9"
  },
  "widgets": {
   "state": {
    "1c0cf0e48b514e7c944954602f2b745d": {
     "views": []
    },
    "c23ed7de6e6a4f908898787eeb1280f0": {
     "views": []
    },
    "e40f8cd633a94e20851bf4eb605492f3": {
     "views": []
    },
    "e9ffe792b7514c9faf4b5cab948592f3": {
     "views": [
      {
       "cell": {
        "cell_type": "code",
        "execution_count": 2,
        "metadata": {
         "collapsed": false,
         "trusted": true
        },
        "outputs": [
         {
          "data": {
           "image/png": "iVBORw0KGgoAAAANSUhEUgAAAX8AAAEACAYAAABbMHZzAAAABHNCSVQICAgIfAhkiAAAAAlwSFlz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\nAAAAAElFTkSuQmCC\n",
           "text/plain": "<matplotlib.figure.Figure at 0x10fbd3ba8>"
          },
          "metadata": {},
          "output_type": "display_data"
         },
         {
          "data": {
           "text/plain": "<function __main__.pltsin>"
          },
          "execution_count": 2,
          "metadata": {},
          "output_type": "execute_result"
         }
        ],
        "source": "t = arange(0,10,0.01)\n\ndef pltsin(freq):\n    plt.plot(t, sin(freq*t))\n    plt.show()\n\ninteract(pltsin, freq=(1,10,0.1))\n"
       },
       "cell_index": 2,
       "root": true
      }
     ]
    }
   },
   "version": "1.0.0"
  }
 },
 "nbformat": 4,
 "nbformat_minor": 1
}
