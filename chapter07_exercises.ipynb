{
 "cells": [
  {
   "cell_type": "markdown",
   "id": "66615212-b0a4-448f-ba43-7231cd328f31",
   "metadata": {},
   "source": [
    "# 7/ Exercises solutions"
   ]
  },
  {
   "cell_type": "code",
   "execution_count": 1,
   "id": "24b86ab3-8473-4526-8a88-3177f6344f4d",
   "metadata": {},
   "outputs": [],
   "source": [
    "# setup SymPy\n",
    "from sympy import *\n",
    "init_printing()"
   ]
  },
  {
   "cell_type": "markdown",
   "id": "3818d0f6-b9a7-4f44-a169-49fe51deecec",
   "metadata": {},
   "source": [
    "### E7.3"
   ]
  },
  {
   "cell_type": "code",
   "execution_count": 2,
   "id": "1711a13c-26d7-42e2-bc88-9bf7115495ae",
   "metadata": {},
   "outputs": [],
   "source": [
    "# The external demand is\n",
    "d = Matrix(\n",
    "    [100,   # arugula\n",
    "     200,   # broccoli\n",
    "     300])  # carrots (in tons)"
   ]
  },
  {
   "cell_type": "code",
   "execution_count": 3,
   "id": "2bd92ea7-cb6e-41bb-ac9a-61634c4fd97f",
   "metadata": {},
   "outputs": [],
   "source": [
    "# The internal demands of production are describe by\n",
    "A = Matrix([\n",
    "[    0,   0.1,   0.1],\n",
    "[ 0.01,     0,  0.15],\n",
    "[ 0.01,  0.20,     0]])"
   ]
  },
  {
   "cell_type": "code",
   "execution_count": 4,
   "id": "c9873f57-eb99-494c-830c-50625ccbd58f",
   "metadata": {},
   "outputs": [
    {
     "data": {
      "image/png": "[encoded data removed]",
      "text/latex": [
       "$\\displaystyle \\left[\\begin{matrix}160.698599700305\\\\254.482509171705\\\\352.503487831344\\end{matrix}\\right]$"
      ],
      "text/plain": [
       "⎡160.698599700305⎤\n",
       "⎢                ⎥\n",
       "⎢254.482509171705⎥\n",
       "⎢                ⎥\n",
       "⎣352.503487831344⎦"
      ]
     },
     "execution_count": 4,
     "metadata": {},
     "output_type": "execute_result"
    }
   ],
   "source": [
    "# The required production rates for both internal and external demands:\n",
    "x = (eye(3)-A).inv()*d\n",
    "x"
   ]
  },
  {
   "cell_type": "code",
   "execution_count": null,
   "id": "d7083b75-81c6-4a1c-8d1e-54f7d68e3b82",
   "metadata": {},
   "outputs": [],
   "source": []
  },
  {
   "cell_type": "code",
   "execution_count": null,
   "id": "046718d8-e4b0-4769-9a36-70a4a5b90df3",
   "metadata": {},
   "outputs": [],
   "source": []
  }
 ],
 "metadata": {
  "kernelspec": {
   "display_name": "Python 3 (ipykernel)",
   "language": "python",
   "name": "python3"
  },
  "language_info": {
   "codemirror_mode": {
    "name": "ipython",
    "version": 3
   },
   "file_extension": ".py",
   "mimetype": "text/x-python",
   "name": "python",
   "nbconvert_exporter": "python",
   "pygments_lexer": "ipython3",
   "version": "3.9.4"
  }
 },
 "nbformat": 4,
 "nbformat_minor": 5
}
