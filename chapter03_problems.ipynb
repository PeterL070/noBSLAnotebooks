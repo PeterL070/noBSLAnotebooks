{
 "cells": [
  {
   "cell_type": "markdown",
   "metadata": {},
   "source": [
    "# 3/ Problem solutions"
   ]
  },
  {
   "cell_type": "code",
   "execution_count": 1,
   "metadata": {},
   "outputs": [],
   "source": [
    "from sympy import *\n",
    "init_printing()"
   ]
  },
  {
   "cell_type": "code",
   "execution_count": null,
   "metadata": {},
   "outputs": [],
   "source": []
  },
  {
   "cell_type": "markdown",
   "metadata": {},
   "source": [
    "## P3.1"
   ]
  },
  {
   "cell_type": "code",
   "execution_count": 2,
   "metadata": {},
   "outputs": [
    {
     "data": {
      "image/png": "[encoded data removed]",
      "text/latex": [
       "$\\displaystyle \\left[\\begin{matrix}1 & 5 & 25\\\\2 & 1 & 32\\end{matrix}\\right]$"
      ],
      "text/plain": [
       "⎡1  5  25⎤\n",
       "⎢        ⎥\n",
       "⎣2  1  32⎦"
      ]
     },
     "execution_count": 2,
     "metadata": {},
     "output_type": "execute_result"
    }
   ],
   "source": [
    "AUG = Matrix([\n",
    "    [1, 5,   25],\n",
    "    [2, 1,   32]])\n",
    "AUG"
   ]
  },
  {
   "cell_type": "code",
   "execution_count": 3,
   "metadata": {},
   "outputs": [
    {
     "data": {
      "image/png": "[encoded data removed]",
      "text/latex": [
       "$\\displaystyle \\left( \\left[\\begin{matrix}1 & 0 & 15\\\\0 & 1 & 2\\end{matrix}\\right], \\  \\left( 0, \\  1\\right)\\right)$"
      ],
      "text/plain": [
       "⎛⎡1  0  15⎤        ⎞\n",
       "⎜⎢        ⎥, (0, 1)⎟\n",
       "⎝⎣0  1  2 ⎦        ⎠"
      ]
     },
     "execution_count": 3,
     "metadata": {},
     "output_type": "execute_result"
    }
   ],
   "source": [
    "AUG.rref()"
   ]
  },
  {
   "cell_type": "code",
   "execution_count": null,
   "metadata": {},
   "outputs": [],
   "source": []
  },
  {
   "cell_type": "markdown",
   "metadata": {},
   "source": [
    "## P3.2\n",
    "\n",
    "In the above solution we showed how to build `AUG` matrix directly.\n",
    "This time, we'll build `AUG` by row-joining (`row_join`) a matrix of coefficients and a vector of constants."
   ]
  },
  {
   "cell_type": "code",
   "execution_count": 4,
   "metadata": {},
   "outputs": [
    {
     "data": {
      "image/png": "[encoded data removed]",
      "text/latex": [
       "$\\displaystyle \\left[\\begin{matrix}3 & 3\\\\2 & \\frac{3}{2}\\end{matrix}\\right]$"
      ],
      "text/plain": [
       "⎡3   3 ⎤\n",
       "⎢      ⎥\n",
       "⎣2  3/2⎦"
      ]
     },
     "execution_count": 4,
     "metadata": {},
     "output_type": "execute_result"
    }
   ],
   "source": [
    "A = Matrix([\n",
    "    [3,       3],\n",
    "    [2,  S(3)/2]])\n",
    "A"
   ]
  },
  {
   "cell_type": "code",
   "execution_count": 5,
   "metadata": {},
   "outputs": [
    {
     "data": {
      "image/png": "[encoded data removed]",
      "text/latex": [
       "$\\displaystyle \\left[\\begin{matrix}6\\\\5\\end{matrix}\\right]$"
      ],
      "text/plain": [
       "⎡6⎤\n",
       "⎢ ⎥\n",
       "⎣5⎦"
      ]
     },
     "execution_count": 5,
     "metadata": {},
     "output_type": "execute_result"
    }
   ],
   "source": [
    "b = Matrix([6,5])  # b is a column vector\n",
    "b"
   ]
  },
  {
   "cell_type": "code",
   "execution_count": 6,
   "metadata": {},
   "outputs": [
    {
     "data": {
      "image/png": "[encoded data removed]",
      "text/latex": [
       "$\\displaystyle \\left[\\begin{matrix}3 & 3 & 6\\\\2 & \\frac{3}{2} & 5\\end{matrix}\\right]$"
      ],
      "text/plain": [
       "⎡3   3   6⎤\n",
       "⎢         ⎥\n",
       "⎣2  3/2  5⎦"
      ]
     },
     "execution_count": 6,
     "metadata": {},
     "output_type": "execute_result"
    }
   ],
   "source": [
    "# row-join A and b to obtain the augmented matrix\n",
    "AUG = A.row_join(b)\n",
    "AUG"
   ]
  },
  {
   "cell_type": "markdown",
   "metadata": {},
   "source": [
    "### a) Alice\n",
    "\n",
    "Let's obtain the matrix `AUGA` which is the result after Alice's row operation."
   ]
  },
  {
   "cell_type": "code",
   "execution_count": 7,
   "metadata": {},
   "outputs": [
    {
     "data": {
      "image/png": "[encoded data removed]",
      "text/latex": [
       "$\\displaystyle \\left[\\begin{matrix}1 & 1 & 2\\\\2 & \\frac{3}{2} & 5\\end{matrix}\\right]$"
      ],
      "text/plain": [
       "⎡1   1   2⎤\n",
       "⎢         ⎥\n",
       "⎣2  3/2  5⎦"
      ]
     },
     "execution_count": 7,
     "metadata": {},
     "output_type": "execute_result"
    }
   ],
   "source": [
    "AUGA = AUG.copy()  # make a copy of AUG\n",
    "AUGA[0,:] = AUGA[0,:]/3\n",
    "AUGA"
   ]
  },
  {
   "cell_type": "code",
   "execution_count": 8,
   "metadata": {},
   "outputs": [
    {
     "data": {
      "image/png": "[encoded data removed]",
      "text/latex": [
       "$\\displaystyle \\left[\\begin{matrix}1 & 1 & 2\\\\0 & - \\frac{1}{2} & 1\\end{matrix}\\right]$"
      ],
      "text/plain": [
       "⎡1   1    2⎤\n",
       "⎢          ⎥\n",
       "⎣0  -1/2  1⎦"
      ]
     },
     "execution_count": 8,
     "metadata": {},
     "output_type": "execute_result"
    }
   ],
   "source": [
    "AUGA[1,:] = AUGA[1,:] - 2*AUGA[0,:]\n",
    "AUGA"
   ]
  },
  {
   "cell_type": "code",
   "execution_count": 9,
   "metadata": {},
   "outputs": [
    {
     "data": {
      "image/png": "[encoded data removed]",
      "text/latex": [
       "$\\displaystyle \\left[\\begin{matrix}1 & 1 & 2\\\\0 & 1 & -2\\end{matrix}\\right]$"
      ],
      "text/plain": [
       "⎡1  1  2 ⎤\n",
       "⎢        ⎥\n",
       "⎣0  1  -2⎦"
      ]
     },
     "execution_count": 9,
     "metadata": {},
     "output_type": "execute_result"
    }
   ],
   "source": [
    "AUGA[1,:] = -2*AUGA[1,:]\n",
    "AUGA"
   ]
  },
  {
   "cell_type": "code",
   "execution_count": 10,
   "metadata": {},
   "outputs": [
    {
     "data": {
      "image/png": "[encoded data removed]",
      "text/latex": [
       "$\\displaystyle \\left[\\begin{matrix}1 & 0 & 4\\\\0 & 1 & -2\\end{matrix}\\right]$"
      ],
      "text/plain": [
       "⎡1  0  4 ⎤\n",
       "⎢        ⎥\n",
       "⎣0  1  -2⎦"
      ]
     },
     "execution_count": 10,
     "metadata": {},
     "output_type": "execute_result"
    }
   ],
   "source": [
    "AUGA[0,:] = AUGA[0,:] - AUGA[1,:]\n",
    "AUGA"
   ]
  },
  {
   "cell_type": "markdown",
   "metadata": {},
   "source": [
    "### b) Bob"
   ]
  },
  {
   "cell_type": "code",
   "execution_count": 11,
   "metadata": {},
   "outputs": [
    {
     "data": {
      "image/png": "[encoded data removed]",
      "text/latex": [
       "$\\displaystyle \\left[\\begin{matrix}1 & \\frac{3}{2} & 1\\\\2 & \\frac{3}{2} & 5\\end{matrix}\\right]$"
      ],
      "text/plain": [
       "⎡1  3/2  1⎤\n",
       "⎢         ⎥\n",
       "⎣2  3/2  5⎦"
      ]
     },
     "execution_count": 11,
     "metadata": {},
     "output_type": "execute_result"
    }
   ],
   "source": [
    "AUGB = AUG.copy()\n",
    "AUGB[0,:] = AUGB[0,:] - AUGB[1,:]\n",
    "AUGB"
   ]
  },
  {
   "cell_type": "code",
   "execution_count": 12,
   "metadata": {},
   "outputs": [
    {
     "data": {
      "image/png": "[encoded data removed]",
      "text/latex": [
       "$\\displaystyle \\left[\\begin{matrix}1 & \\frac{3}{2} & 1\\\\0 & - \\frac{3}{2} & 3\\end{matrix}\\right]$"
      ],
      "text/plain": [
       "⎡1  3/2   1⎤\n",
       "⎢          ⎥\n",
       "⎣0  -3/2  3⎦"
      ]
     },
     "execution_count": 12,
     "metadata": {},
     "output_type": "execute_result"
    }
   ],
   "source": [
    "AUGB[1,:] = AUGB[1,:] - 2*AUGB[0,:]\n",
    "AUGB"
   ]
  },
  {
   "cell_type": "code",
   "execution_count": 13,
   "metadata": {},
   "outputs": [
    {
     "data": {
      "image/png": "[encoded data removed]",
      "text/latex": [
       "$\\displaystyle \\left[\\begin{matrix}1 & \\frac{3}{2} & 1\\\\0 & 1 & -2\\end{matrix}\\right]$"
      ],
      "text/plain": [
       "⎡1  3/2  1 ⎤\n",
       "⎢          ⎥\n",
       "⎣0   1   -2⎦"
      ]
     },
     "execution_count": 13,
     "metadata": {},
     "output_type": "execute_result"
    }
   ],
   "source": [
    "AUGB[1,:] = -1*S(2)/3*AUGB[1,:]\n",
    "AUGB"
   ]
  },
  {
   "cell_type": "code",
   "execution_count": 14,
   "metadata": {},
   "outputs": [
    {
     "data": {
      "image/png": "[encoded data removed]",
      "text/latex": [
       "$\\displaystyle \\left[\\begin{matrix}1 & 0 & 4\\\\0 & 1 & -2\\end{matrix}\\right]$"
      ],
      "text/plain": [
       "⎡1  0  4 ⎤\n",
       "⎢        ⎥\n",
       "⎣0  1  -2⎦"
      ]
     },
     "execution_count": 14,
     "metadata": {},
     "output_type": "execute_result"
    }
   ],
   "source": [
    "AUGB[0,:] = AUGB[0,:] - S(3)/2*AUGB[1,:]\n",
    "AUGB"
   ]
  },
  {
   "cell_type": "code",
   "execution_count": null,
   "metadata": {},
   "outputs": [],
   "source": []
  },
  {
   "cell_type": "markdown",
   "metadata": {},
   "source": [
    "### c) Charlotte"
   ]
  },
  {
   "cell_type": "code",
   "execution_count": 15,
   "metadata": {},
   "outputs": [
    {
     "data": {
      "image/png": "[encoded data removed]",
      "text/latex": [
       "$\\displaystyle \\left[\\begin{matrix}2 & \\frac{3}{2} & 5\\\\3 & 3 & 6\\end{matrix}\\right]$"
      ],
      "text/plain": [
       "⎡2  3/2  5⎤\n",
       "⎢         ⎥\n",
       "⎣3   3   6⎦"
      ]
     },
     "execution_count": 15,
     "metadata": {},
     "output_type": "execute_result"
    }
   ],
   "source": [
    "AUGC = AUG.copy()\n",
    "AUGC[0,:], AUGC[1,:] = AUGC[1,:], AUGC[0,:]\n",
    "AUGC"
   ]
  },
  {
   "cell_type": "code",
   "execution_count": 16,
   "metadata": {},
   "outputs": [
    {
     "data": {
      "image/png": "[encoded data removed]",
      "text/latex": [
       "$\\displaystyle \\left[\\begin{matrix}1 & \\frac{3}{4} & \\frac{5}{2}\\\\3 & 3 & 6\\end{matrix}\\right]$"
      ],
      "text/plain": [
       "⎡1  3/4  5/2⎤\n",
       "⎢           ⎥\n",
       "⎣3   3    6 ⎦"
      ]
     },
     "execution_count": 16,
     "metadata": {},
     "output_type": "execute_result"
    }
   ],
   "source": [
    "AUGC[0,:] = AUGC[0,:]/2\n",
    "AUGC"
   ]
  },
  {
   "cell_type": "code",
   "execution_count": 17,
   "metadata": {},
   "outputs": [
    {
     "data": {
      "image/png": "[encoded data removed]",
      "text/latex": [
       "$\\displaystyle \\left[\\begin{matrix}1 & \\frac{3}{4} & \\frac{5}{2}\\\\0 & \\frac{3}{4} & - \\frac{3}{2}\\end{matrix}\\right]$"
      ],
      "text/plain": [
       "⎡1  3/4  5/2 ⎤\n",
       "⎢            ⎥\n",
       "⎣0  3/4  -3/2⎦"
      ]
     },
     "execution_count": 17,
     "metadata": {},
     "output_type": "execute_result"
    }
   ],
   "source": [
    "AUGC[1,:] = AUGC[1,:] - 3*AUGC[0,:]\n",
    "AUGC"
   ]
  },
  {
   "cell_type": "code",
   "execution_count": 18,
   "metadata": {},
   "outputs": [
    {
     "data": {
      "image/png": "[encoded data removed]",
      "text/latex": [
       "$\\displaystyle \\left[\\begin{matrix}1 & \\frac{3}{4} & \\frac{5}{2}\\\\0 & 1 & -2\\end{matrix}\\right]$"
      ],
      "text/plain": [
       "⎡1  3/4  5/2⎤\n",
       "⎢           ⎥\n",
       "⎣0   1   -2 ⎦"
      ]
     },
     "execution_count": 18,
     "metadata": {},
     "output_type": "execute_result"
    }
   ],
   "source": [
    "AUGC[1,:] = S(4)/3*AUGC[1,:]\n",
    "AUGC"
   ]
  },
  {
   "cell_type": "code",
   "execution_count": 19,
   "metadata": {},
   "outputs": [
    {
     "data": {
      "image/png": "[encoded data removed]",
      "text/latex": [
       "$\\displaystyle \\left[\\begin{matrix}1 & 0 & 4\\\\0 & 1 & -2\\end{matrix}\\right]$"
      ],
      "text/plain": [
       "⎡1  0  4 ⎤\n",
       "⎢        ⎥\n",
       "⎣0  1  -2⎦"
      ]
     },
     "execution_count": 19,
     "metadata": {},
     "output_type": "execute_result"
    }
   ],
   "source": [
    "AUGC[0,:] = AUGC[0,:] - S(3)/4*AUGC[1,:]\n",
    "AUGC"
   ]
  },
  {
   "cell_type": "code",
   "execution_count": null,
   "metadata": {},
   "outputs": [],
   "source": []
  },
  {
   "cell_type": "markdown",
   "metadata": {},
   "source": [
    "## P3.3"
   ]
  },
  {
   "cell_type": "code",
   "execution_count": 20,
   "metadata": {},
   "outputs": [],
   "source": [
    "# define agmented matrices for three systems of eqns. with unique sol'ns\n",
    "AUGA = Matrix([\n",
    "        [ -1, -2, -2],\n",
    "        [  3, 3, 0]])\n",
    "\n",
    "AUGB = Matrix([\n",
    "        [ 1, -1, -2,  1],\n",
    "        [-2,  3,  3, -1],\n",
    "        [-1,  0,  1,  2]])\n",
    "\n",
    "AUGC = Matrix([\n",
    "        [ 2, -2,  3, 2],\n",
    "        [ 1, -2, -1, 0],\n",
    "        [-2,  2,  2, 1]])"
   ]
  },
  {
   "cell_type": "code",
   "execution_count": 21,
   "metadata": {},
   "outputs": [
    {
     "data": {
      "image/png": "[encoded data removed]",
      "text/latex": [
       "$\\displaystyle \\left[\\begin{matrix}-1 & -2 & -2\\\\3 & 3 & 0\\end{matrix}\\right]$"
      ],
      "text/plain": [
       "⎡-1  -2  -2⎤\n",
       "⎢          ⎥\n",
       "⎣3   3   0 ⎦"
      ]
     },
     "execution_count": 21,
     "metadata": {},
     "output_type": "execute_result"
    }
   ],
   "source": [
    "AUGA"
   ]
  },
  {
   "cell_type": "code",
   "execution_count": 22,
   "metadata": {},
   "outputs": [
    {
     "data": {
      "image/png": "[encoded data removed]",
      "text/latex": [
       "$\\displaystyle \\left( \\left[\\begin{matrix}1 & 0 & -2\\\\0 & 1 & 2\\end{matrix}\\right], \\  \\left( 0, \\  1\\right)\\right)$"
      ],
      "text/plain": [
       "⎛⎡1  0  -2⎤        ⎞\n",
       "⎜⎢        ⎥, (0, 1)⎟\n",
       "⎝⎣0  1  2 ⎦        ⎠"
      ]
     },
     "execution_count": 22,
     "metadata": {},
     "output_type": "execute_result"
    }
   ],
   "source": [
    "AUGA.rref()"
   ]
  },
  {
   "cell_type": "code",
   "execution_count": 23,
   "metadata": {},
   "outputs": [
    {
     "data": {
      "image/png": "[encoded data removed]",
      "text/latex": [
       "$\\displaystyle \\left[\\begin{matrix}1 & -1 & -2 & 1\\\\-2 & 3 & 3 & -1\\\\-1 & 0 & 1 & 2\\end{matrix}\\right]$"
      ],
      "text/plain": [
       "⎡1   -1  -2  1 ⎤\n",
       "⎢              ⎥\n",
       "⎢-2  3   3   -1⎥\n",
       "⎢              ⎥\n",
       "⎣-1  0   1   2 ⎦"
      ]
     },
     "execution_count": 23,
     "metadata": {},
     "output_type": "execute_result"
    }
   ],
   "source": [
    "AUGB"
   ]
  },
  {
   "cell_type": "code",
   "execution_count": 24,
   "metadata": {},
   "outputs": [
    {
     "data": {
      "image/png": "[encoded data removed]",
      "text/latex": [
       "$\\displaystyle \\left( \\left[\\begin{matrix}1 & 0 & 0 & -4\\\\0 & 1 & 0 & -1\\\\0 & 0 & 1 & -2\\end{matrix}\\right], \\  \\left( 0, \\  1, \\  2\\right)\\right)$"
      ],
      "text/plain": [
       "⎛⎡1  0  0  -4⎤           ⎞\n",
       "⎜⎢           ⎥           ⎟\n",
       "⎜⎢0  1  0  -1⎥, (0, 1, 2)⎟\n",
       "⎜⎢           ⎥           ⎟\n",
       "⎝⎣0  0  1  -2⎦           ⎠"
      ]
     },
     "execution_count": 24,
     "metadata": {},
     "output_type": "execute_result"
    }
   ],
   "source": [
    "AUGB.rref()"
   ]
  },
  {
   "cell_type": "code",
   "execution_count": 25,
   "metadata": {},
   "outputs": [
    {
     "data": {
      "image/png": "[encoded data removed]",
      "text/latex": [
       "$\\displaystyle \\left[\\begin{matrix}2 & -2 & 3 & 2\\\\1 & -2 & -1 & 0\\\\-2 & 2 & 2 & 1\\end{matrix}\\right]$"
      ],
      "text/plain": [
       "⎡2   -2  3   2⎤\n",
       "⎢             ⎥\n",
       "⎢1   -2  -1  0⎥\n",
       "⎢             ⎥\n",
       "⎣-2  2   2   1⎦"
      ]
     },
     "execution_count": 25,
     "metadata": {},
     "output_type": "execute_result"
    }
   ],
   "source": [
    "AUGC"
   ]
  },
  {
   "cell_type": "code",
   "execution_count": 26,
   "metadata": {},
   "outputs": [
    {
     "data": {
      "image/png": "[encoded data removed]",
      "text/latex": [
       "$\\displaystyle \\left( \\left[\\begin{matrix}1 & 0 & 0 & - \\frac{2}{5}\\\\0 & 1 & 0 & - \\frac{1}{2}\\\\0 & 0 & 1 & \\frac{3}{5}\\end{matrix}\\right], \\  \\left( 0, \\  1, \\  2\\right)\\right)$"
      ],
      "text/plain": [
       "⎛⎡1  0  0  -2/5⎤           ⎞\n",
       "⎜⎢             ⎥           ⎟\n",
       "⎜⎢0  1  0  -1/2⎥, (0, 1, 2)⎟\n",
       "⎜⎢             ⎥           ⎟\n",
       "⎝⎣0  0  1  3/5 ⎦           ⎠"
      ]
     },
     "execution_count": 26,
     "metadata": {},
     "output_type": "execute_result"
    }
   ],
   "source": [
    "AUGC.rref()"
   ]
  },
  {
   "cell_type": "code",
   "execution_count": null,
   "metadata": {},
   "outputs": [],
   "source": []
  },
  {
   "cell_type": "markdown",
   "metadata": {},
   "source": [
    "## P3.4\n",
    "\n",
    "These three systems of equations have infinitely many solutions."
   ]
  },
  {
   "cell_type": "markdown",
   "metadata": {},
   "source": [
    "### P3.4 a)"
   ]
  },
  {
   "cell_type": "code",
   "execution_count": 27,
   "metadata": {},
   "outputs": [
    {
     "data": {
      "image/png": "[encoded data removed]",
      "text/latex": [
       "$\\displaystyle \\left[\\begin{matrix}-1 & -2 & -2\\\\3 & 6 & 6\\end{matrix}\\right]$"
      ],
      "text/plain": [
       "⎡-1  -2  -2⎤\n",
       "⎢          ⎥\n",
       "⎣3   6   6 ⎦"
      ]
     },
     "execution_count": 27,
     "metadata": {},
     "output_type": "execute_result"
    }
   ],
   "source": [
    "AUGA = Matrix([\n",
    "    [ -1, -2,  -2],\n",
    "    [  3,  6,   6]])\n",
    "AUGA"
   ]
  },
  {
   "cell_type": "code",
   "execution_count": 28,
   "metadata": {},
   "outputs": [
    {
     "data": {
      "image/png": "[encoded data removed]",
      "text/latex": [
       "$\\displaystyle \\left( \\left[\\begin{matrix}1 & 2 & 2\\\\0 & 0 & 0\\end{matrix}\\right], \\  \\left( 0,\\right)\\right)$"
      ],
      "text/plain": [
       "⎛⎡1  2  2⎤      ⎞\n",
       "⎜⎢       ⎥, (0,)⎟\n",
       "⎝⎣0  0  0⎦      ⎠"
      ]
     },
     "execution_count": 28,
     "metadata": {},
     "output_type": "execute_result"
    }
   ],
   "source": [
    "AUGA.rref()"
   ]
  },
  {
   "cell_type": "code",
   "execution_count": 29,
   "metadata": {},
   "outputs": [
    {
     "data": {
      "image/png": "[encoded data removed]",
      "text/latex": [
       "$\\displaystyle \\left[ \\left[\\begin{matrix}-2\\\\1\\end{matrix}\\right]\\right]$"
      ],
      "text/plain": [
       "⎡⎡-2⎤⎤\n",
       "⎢⎢  ⎥⎥\n",
       "⎣⎣1 ⎦⎦"
      ]
     },
     "execution_count": 29,
     "metadata": {},
     "output_type": "execute_result"
    }
   ],
   "source": [
    "AUGA[0:2,0:2].nullspace()"
   ]
  },
  {
   "cell_type": "code",
   "execution_count": 30,
   "metadata": {},
   "outputs": [],
   "source": [
    "# the solutions to the sytem of equations represented by AUGA\n",
    "# is of the form    point + nullspace\n",
    "point = AUGA.rref()[0][:,2]\n",
    "nullspace = AUGA[0:2,0:2].nullspace()"
   ]
  },
  {
   "cell_type": "code",
   "execution_count": 31,
   "metadata": {},
   "outputs": [
    {
     "data": {
      "image/png": "[encoded data removed]",
      "text/latex": [
       "$\\displaystyle \\left[\\begin{matrix}2\\\\0\\end{matrix}\\right]$"
      ],
      "text/plain": [
       "⎡2⎤\n",
       "⎢ ⎥\n",
       "⎣0⎦"
      ]
     },
     "execution_count": 31,
     "metadata": {},
     "output_type": "execute_result"
    }
   ],
   "source": [
    "# the point is also called he particular solution\n",
    "point"
   ]
  },
  {
   "cell_type": "code",
   "execution_count": 32,
   "metadata": {},
   "outputs": [
    {
     "name": "stdout",
     "output_type": "stream",
     "text": [
      "True\n"
     ]
    },
    {
     "data": {
      "image/png": "[encoded data removed]",
      "text/latex": [
       "$\\displaystyle \\left[\\begin{matrix}-2\\\\6\\end{matrix}\\right]$"
      ],
      "text/plain": [
       "⎡-2⎤\n",
       "⎢  ⎥\n",
       "⎣6 ⎦"
      ]
     },
     "execution_count": 32,
     "metadata": {},
     "output_type": "execute_result"
    }
   ],
   "source": [
    "# if the augmented matrix AUGA is [A|b], then the point satisfies A*point = b\n",
    "print( AUGA[0:2,0:2]*point == AUGA[:,2] )\n",
    "AUGA[0:2,0:2]*point"
   ]
  },
  {
   "cell_type": "markdown",
   "metadata": {},
   "source": [
    "#### Finding the null space"
   ]
  },
  {
   "cell_type": "code",
   "execution_count": 33,
   "metadata": {},
   "outputs": [
    {
     "data": {
      "image/png": "[encoded data removed]",
      "text/latex": [
       "$\\displaystyle \\left[\\begin{matrix}-2\\\\1\\end{matrix}\\right]$"
      ],
      "text/plain": [
       "⎡-2⎤\n",
       "⎢  ⎥\n",
       "⎣1 ⎦"
      ]
     },
     "execution_count": 33,
     "metadata": {},
     "output_type": "execute_result"
    }
   ],
   "source": [
    "# the nullspace of A is one dimensional and spanned by\n",
    "n = nullspace[0]\n",
    "n\n",
    "# every vector n in the nullspace of A satisfies  A*n=0"
   ]
  },
  {
   "cell_type": "code",
   "execution_count": 34,
   "metadata": {},
   "outputs": [
    {
     "name": "stdout",
     "output_type": "stream",
     "text": [
      "Matrix([[-2], [6]]) True\n",
      "Matrix([[-2], [6]]) True\n",
      "Matrix([[-2], [6]]) True\n",
      "Matrix([[-2], [6]]) True\n",
      "Matrix([[-2], [6]]) True\n",
      "Matrix([[-2], [6]]) True\n",
      "Matrix([[-2], [6]]) True\n",
      "Matrix([[-2], [6]]) True\n",
      "Matrix([[-2], [6]]) True\n",
      "Matrix([[-2], [6]]) True\n",
      "Matrix([[-2], [6]]) True\n"
     ]
    }
   ],
   "source": [
    "# so solution to A*x=b is any (point+s*n) where s is any real number\n",
    "# since  A*(point+s*n) = A*point + sA*n = A*point + 0 = b.\n",
    "# Let's verify claim for values of s in the range -5,-4,-3,-2,-1,0,1,2,3,4,5\n",
    "for s in range(-5,6):\n",
    "    print( AUGA[0:2,0:2]*(point + s*n), \n",
    "           AUGA[0:2,0:2]*(point + s*n) == AUGA[:,2] )"
   ]
  },
  {
   "cell_type": "markdown",
   "metadata": {},
   "source": [
    "### P3.4 b)"
   ]
  },
  {
   "cell_type": "code",
   "execution_count": 35,
   "metadata": {},
   "outputs": [
    {
     "data": {
      "image/png": "[encoded data removed]",
      "text/latex": [
       "$\\displaystyle \\left[\\begin{matrix}1 & -1 & -2 & 1\\\\-2 & 3 & 3 & -1\\\\-1 & 2 & 1 & 0\\end{matrix}\\right]$"
      ],
      "text/plain": [
       "⎡1   -1  -2  1 ⎤\n",
       "⎢              ⎥\n",
       "⎢-2  3   3   -1⎥\n",
       "⎢              ⎥\n",
       "⎣-1  2   1   0 ⎦"
      ]
     },
     "execution_count": 35,
     "metadata": {},
     "output_type": "execute_result"
    }
   ],
   "source": [
    "AUGB = Matrix([\n",
    "        [ 1, -1, -2,   1],\n",
    "        [-2,  3,  3,  -1],\n",
    "        [-1,  2,  1,   0]])\n",
    "AUGB"
   ]
  },
  {
   "cell_type": "code",
   "execution_count": 36,
   "metadata": {},
   "outputs": [
    {
     "data": {
      "image/png": "[encoded data removed]",
      "text/latex": [
       "$\\displaystyle \\left( \\left[\\begin{matrix}1 & 0 & -3 & 2\\\\0 & 1 & -1 & 1\\\\0 & 0 & 0 & 0\\end{matrix}\\right], \\  \\left( 0, \\  1\\right)\\right)$"
      ],
      "text/plain": [
       "⎛⎡1  0  -3  2⎤        ⎞\n",
       "⎜⎢           ⎥        ⎟\n",
       "⎜⎢0  1  -1  1⎥, (0, 1)⎟\n",
       "⎜⎢           ⎥        ⎟\n",
       "⎝⎣0  0  0   0⎦        ⎠"
      ]
     },
     "execution_count": 36,
     "metadata": {},
     "output_type": "execute_result"
    }
   ],
   "source": [
    "AUGB.rref()"
   ]
  },
  {
   "cell_type": "code",
   "execution_count": 37,
   "metadata": {},
   "outputs": [
    {
     "data": {
      "image/png": "[encoded data removed]",
      "text/latex": [
       "$\\displaystyle \\left[\\begin{matrix}3 s + 2\\\\s + 1\\\\s\\end{matrix}\\right]$"
      ],
      "text/plain": [
       "⎡3⋅s + 2⎤\n",
       "⎢       ⎥\n",
       "⎢ s + 1 ⎥\n",
       "⎢       ⎥\n",
       "⎣   s   ⎦"
      ]
     },
     "execution_count": 37,
     "metadata": {},
     "output_type": "execute_result"
    }
   ],
   "source": [
    "point_B = AUGB.rref()[0][:,3]\n",
    "nullspace_B = AUGB[0:3,0:3].nullspace()[0]\n",
    "s = symbols('s')\n",
    "point_B + s*nullspace_B"
   ]
  },
  {
   "cell_type": "markdown",
   "metadata": {},
   "source": [
    "### P3.4 c)"
   ]
  },
  {
   "cell_type": "code",
   "execution_count": 38,
   "metadata": {},
   "outputs": [
    {
     "data": {
      "image/png": "[encoded data removed]",
      "text/latex": [
       "$\\displaystyle \\left[\\begin{matrix}2 & -2 & 3 & 2\\\\0 & 0 & 5 & 3\\\\-2 & 2 & 2 & 1\\end{matrix}\\right]$"
      ],
      "text/plain": [
       "⎡2   -2  3  2⎤\n",
       "⎢            ⎥\n",
       "⎢0   0   5  3⎥\n",
       "⎢            ⎥\n",
       "⎣-2  2   2  1⎦"
      ]
     },
     "execution_count": 38,
     "metadata": {},
     "output_type": "execute_result"
    }
   ],
   "source": [
    "AUGC = Matrix([\n",
    "        [ 2, -2, 3,  2],\n",
    "        [ 0,  0, 5,  3],\n",
    "        [-2,  2, 2,  1]])\n",
    "AUGC"
   ]
  },
  {
   "cell_type": "code",
   "execution_count": 39,
   "metadata": {},
   "outputs": [
    {
     "data": {
      "image/png": "[encoded data removed]",
      "text/latex": [
       "$\\displaystyle \\left( \\left[\\begin{matrix}1 & -1 & 0 & \\frac{1}{10}\\\\0 & 0 & 1 & \\frac{3}{5}\\\\0 & 0 & 0 & 0\\end{matrix}\\right], \\  \\left( 0, \\  2\\right)\\right)$"
      ],
      "text/plain": [
       "⎛⎡1  -1  0  1/10⎤        ⎞\n",
       "⎜⎢              ⎥        ⎟\n",
       "⎜⎢0  0   1  3/5 ⎥, (0, 2)⎟\n",
       "⎜⎢              ⎥        ⎟\n",
       "⎝⎣0  0   0   0  ⎦        ⎠"
      ]
     },
     "execution_count": 39,
     "metadata": {},
     "output_type": "execute_result"
    }
   ],
   "source": [
    "AUGC.rref()"
   ]
  },
  {
   "cell_type": "code",
   "execution_count": 40,
   "metadata": {},
   "outputs": [
    {
     "data": {
      "image/png": "[encoded data removed]",
      "text/latex": [
       "$\\displaystyle \\left[\\begin{matrix}s + \\frac{1}{10}\\\\s + \\frac{3}{5}\\\\0\\end{matrix}\\right]$"
      ],
      "text/plain": [
       "⎡s + 1/10⎤\n",
       "⎢        ⎥\n",
       "⎢s + 3/5 ⎥\n",
       "⎢        ⎥\n",
       "⎣   0    ⎦"
      ]
     },
     "execution_count": 40,
     "metadata": {},
     "output_type": "execute_result"
    }
   ],
   "source": [
    "point_C = AUGC.rref()[0][:,3]\n",
    "nullspace_C = AUGC[0:3,0:3].nullspace()[0]\n",
    "s = symbols('s')\n",
    "point_C + s*nullspace_C"
   ]
  },
  {
   "cell_type": "code",
   "execution_count": null,
   "metadata": {},
   "outputs": [],
   "source": []
  },
  {
   "cell_type": "code",
   "execution_count": null,
   "metadata": {},
   "outputs": [],
   "source": []
  }
 ],
 "metadata": {
  "kernelspec": {
   "display_name": "Python 3",
   "language": "python",
   "name": "python3"
  },
  "language_info": {
   "codemirror_mode": {
    "name": "ipython",
    "version": 3
   },
   "file_extension": ".py",
   "mimetype": "text/x-python",
   "name": "python",
   "nbconvert_exporter": "python",
   "pygments_lexer": "ipython3",
   "version": "3.6.9"
  }
 },
 "nbformat": 4,
 "nbformat_minor": 1
}
