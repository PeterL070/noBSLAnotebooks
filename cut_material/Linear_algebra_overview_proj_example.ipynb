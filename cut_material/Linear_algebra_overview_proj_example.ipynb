{
 "cells": [
  {
   "cell_type": "markdown",
   "metadata": {},
   "source": [
    "# Linear algebra overview projection example"
   ]
  },
  {
   "cell_type": "markdown",
   "metadata": {},
   "source": [
    "Linear algebra is the study of **vectors** and **linear transformations**. This notebook introduces concepts form linear algebra in a birds-eye overview. The goal is not to get into the details, but to give the reader a taste of the different types of thinking: computational, geometrical, and theoretical, that are used in linear algebra."
   ]
  },
  {
   "cell_type": "markdown",
   "metadata": {},
   "source": [
    "## Plan\n",
    "\n",
    "  - 1. Prerequisites\n",
    "  - 2. Vectors\n",
    "    - Definition \n",
    "    - Geomterical interpretation\n",
    "    - Dot product\n",
    "  - Projections\n",
    "    - Projection operation\n",
    "    - Example: projection onto the line with equation $x-y=0$\n",
    "  - Vector functions\n",
    "    - Linear property: $f(a\\mathbf{x} + b\\mathbf{y}) = af(\\mathbf{x}) + bf(\\mathbf{y})$\n",
    "    - Projection transformation P\n",
    "  - Matrix representation of linear transformations\n",
    "    - Linear transformation <--> Matrix-vector product equivalence\n",
    "    - Show matrix representation M_P of Projection transformation P\n",
    "  - Matrices\n",
    "    - Definition \n",
    "    - Matrix operations\n",
    "      - Matrix-vector product \n",
    "      - Matrix-matrix product\n",
    "      - Trace\n",
    "      - Determinant\n",
    "      - Matrix inverse\n",
    "      - Matrix equations\n",
    "    - Reduced row echelon form"
   ]
  },
  {
   "cell_type": "code",
   "execution_count": 1,
   "metadata": {
    "collapsed": true
   },
   "outputs": [],
   "source": [
    "# setup SymPy\n",
    "from sympy import *\n",
    "x, y, z, t = symbols('x y z t')\n",
    "init_printing()\n",
    "\n",
    "# a vector is a special type of matrix (an n-vector is either a nx1 or a 1xn matrix)\n",
    "Vector = Matrix   # define alias Vector so I don't have to explain this during video\n",
    "\n",
    "# setup plotting\n",
    "%matplotlib inline\n",
    "import matplotlib.pyplot as mpl\n",
    "from plot_helpers import plot_vec, plot_vecs, plot_line, plot_plane, autoscale_arrows"
   ]
  },
  {
   "cell_type": "markdown",
   "metadata": {},
   "source": [
    "# Prerequisites"
   ]
  },
  {
   "cell_type": "markdown",
   "metadata": {},
   "source": [
    "Linear algebra builds upon high school math concepts like:\n",
    "  - Geometry (lines, curves, areas, triangles)\n",
    "  - Numbers (integers, rationals, reals, complex numbers)\n",
    "  - Functions ($f(x)$ takes an input $x$ and produces an output $y$)"
   ]
  },
  {
   "cell_type": "markdown",
   "metadata": {},
   "source": [
    "# Vectors"
   ]
  },
  {
   "cell_type": "code",
   "execution_count": 2,
   "metadata": {},
   "outputs": [
    {
     "data": {
      "image/png": "[encoded data removed]",
      "text/latex": [
       "$$\\left[\\begin{matrix}1\\\\1\\end{matrix}\\right]$$"
      ],
      "text/plain": [
       "⎡1⎤\n",
       "⎢ ⎥\n",
       "⎣1⎦"
      ]
     },
     "execution_count": 2,
     "metadata": {},
     "output_type": "execute_result"
    }
   ],
   "source": [
    "# define two vectors\n",
    "u = Vector([1,1])\n",
    "v = Vector([1,-1])\n",
    "u"
   ]
  },
  {
   "cell_type": "code",
   "execution_count": 3,
   "metadata": {},
   "outputs": [
    {
     "data": {
      "image/png": "[encoded data removed]",
      "text/latex": [
       "$$\\left[\\begin{matrix}1\\\\-1\\end{matrix}\\right]$$"
      ],
      "text/plain": [
       "⎡1 ⎤\n",
       "⎢  ⎥\n",
       "⎣-1⎦"
      ]
     },
     "execution_count": 3,
     "metadata": {},
     "output_type": "execute_result"
    }
   ],
   "source": [
    "v"
   ]
  },
  {
   "cell_type": "code",
   "execution_count": 4,
   "metadata": {},
   "outputs": [
    {
     "data": {
      "image/png": "[encoded data removed]",
      "text/plain": [
       "<matplotlib.figure.Figure at 0x10d0f5cf8>"
      ]
     },
     "metadata": {},
     "output_type": "display_data"
    }
   ],
   "source": [
    "plot_vecs(u, v)\n",
    "autoscale_arrows()"
   ]
  },
  {
   "cell_type": "markdown",
   "metadata": {},
   "source": [
    "### Vector addition"
   ]
  },
  {
   "cell_type": "code",
   "execution_count": 5,
   "metadata": {},
   "outputs": [
    {
     "data": {
      "image/png": "[encoded data removed]",
      "text/latex": [
       "$$\\left[\\begin{matrix}2\\\\0\\end{matrix}\\right]$$"
      ],
      "text/plain": [
       "⎡2⎤\n",
       "⎢ ⎥\n",
       "⎣0⎦"
      ]
     },
     "execution_count": 5,
     "metadata": {},
     "output_type": "execute_result"
    },
    {
     "data": {
      "image/png": "[encoded data removed]",
      "text/plain": [
       "<matplotlib.figure.Figure at 0x10fb80cc0>"
      ]
     },
     "metadata": {},
     "output_type": "display_data"
    }
   ],
   "source": [
    "# graphical\n",
    "plot_vecs(u,v)\n",
    "plot_vec(v, at=u, color='b')\n",
    "plot_vec(u+v, color='r')\n",
    "autoscale_arrows()\n",
    "\n",
    "# algebraic\n",
    "u+v"
   ]
  },
  {
   "cell_type": "markdown",
   "metadata": {},
   "source": [
    "### Vector length $\\|\\vec{u}\\|$"
   ]
  },
  {
   "cell_type": "code",
   "execution_count": 6,
   "metadata": {},
   "outputs": [
    {
     "data": {
      "image/png": "[encoded data removed]",
      "text/latex": [
       "$$\\sqrt{2}$$"
      ],
      "text/plain": [
       "√2"
      ]
     },
     "execution_count": 6,
     "metadata": {},
     "output_type": "execute_result"
    }
   ],
   "source": [
    "u.norm()"
   ]
  },
  {
   "cell_type": "markdown",
   "metadata": {},
   "source": [
    "### Unit-length vectors $\\hat{u}$"
   ]
  },
  {
   "cell_type": "code",
   "execution_count": 7,
   "metadata": {},
   "outputs": [
    {
     "data": {
      "image/png": "[encoded data removed]",
      "text/latex": [
       "$$\\left[\\begin{matrix}\\frac{\\sqrt{2}}{2}\\\\\\frac{\\sqrt{2}}{2}\\end{matrix}\\right]$$"
      ],
      "text/plain": [
       "⎡√2⎤\n",
       "⎢──⎥\n",
       "⎢2 ⎥\n",
       "⎢  ⎥\n",
       "⎢√2⎥\n",
       "⎢──⎥\n",
       "⎣2 ⎦"
      ]
     },
     "execution_count": 7,
     "metadata": {},
     "output_type": "execute_result"
    },
    {
     "data": {
      "image/png": "[encoded data removed]",
      "text/plain": [
       "<matplotlib.figure.Figure at 0x10fb85b38>"
      ]
     },
     "metadata": {},
     "output_type": "display_data"
    }
   ],
   "source": [
    "uhat = u/u.norm()\n",
    "\n",
    "plot_vecs(u, uhat)\n",
    "\n",
    "uhat"
   ]
  },
  {
   "cell_type": "markdown",
   "metadata": {},
   "source": [
    "## Dot product"
   ]
  },
  {
   "cell_type": "markdown",
   "metadata": {},
   "source": [
    "### Definition"
   ]
  },
  {
   "cell_type": "markdown",
   "metadata": {
    "collapsed": true
   },
   "source": [
    "The dot product of two vectors is proporional to the lengths for which the two vectors extend in the same direction.\n",
    "\n",
    "If $\\vec{u}=(u_1,u_2)$ and $\\vec{v}=(v_1,v_2)$, then:\n",
    "\n",
    "$$\n",
    "  \\vec{u} \\cdot \\vec{v} = u_1v_1 + u_2v_2 = \\|\\vec{u}\\| \\|\\vec{v}\\| \\cos \\theta_{uv},\n",
    "$$\n",
    "\n",
    "where $\\theta_{uv}$ is the angle between the vectors."
   ]
  },
  {
   "cell_type": "code",
   "execution_count": 8,
   "metadata": {},
   "outputs": [
    {
     "data": {
      "image/png": "[encoded data removed]",
      "text/latex": [
       "$$6$$"
      ],
      "text/plain": [
       "6"
      ]
     },
     "execution_count": 8,
     "metadata": {},
     "output_type": "execute_result"
    },
    {
     "data": {
      "image/png": "[encoded data removed]",
      "text/plain": [
       "<matplotlib.figure.Figure at 0x10fc3d898>"
      ]
     },
     "metadata": {},
     "output_type": "display_data"
    }
   ],
   "source": [
    "u = Vector([2,2])\n",
    "v = Vector([3,0])\n",
    "\n",
    "plot_vecs(u,v)\n",
    "autoscale_arrows()\n",
    "\n",
    "u.dot(v)"
   ]
  },
  {
   "cell_type": "markdown",
   "metadata": {},
   "source": [
    "### Intuition"
   ]
  },
  {
   "cell_type": "code",
   "execution_count": 9,
   "metadata": {},
   "outputs": [
    {
     "data": {
      "text/plain": [
       "True"
      ]
     },
     "execution_count": 9,
     "metadata": {},
     "output_type": "execute_result"
    },
    {
     "data": {
      "image/png": "[encoded data removed]",
      "text/plain": [
       "<matplotlib.figure.Figure at 0x10fe30390>"
      ]
     },
     "metadata": {},
     "output_type": "display_data"
    }
   ],
   "source": [
    "# split the vector u into two parts:\n",
    "u_parallel_to_v = Vector([2,0])\n",
    "u_perp_to_v = Vector([0,2])\n",
    "\n",
    "plot_vecs(u, v, u_parallel_to_v, u_perp_to_v)\n",
    "autoscale_arrows()\n",
    "\n",
    "u == u_parallel_to_v + u_perp_to_v"
   ]
  },
  {
   "cell_type": "code",
   "execution_count": 10,
   "metadata": {},
   "outputs": [
    {
     "data": {
      "text/plain": [
       "True"
      ]
     },
     "execution_count": 10,
     "metadata": {},
     "output_type": "execute_result"
    }
   ],
   "source": [
    "# the dot product uses only the part of u that is parallel to v\n",
    "u.dot(v) == u_parallel_to_v.dot(v) == u_parallel_to_v.norm()*v.norm()"
   ]
  },
  {
   "cell_type": "code",
   "execution_count": 11,
   "metadata": {},
   "outputs": [
    {
     "data": {
      "image/png": "[encoded data removed]",
      "text/latex": [
       "$$0$$"
      ],
      "text/plain": [
       "0"
      ]
     },
     "execution_count": 11,
     "metadata": {},
     "output_type": "execute_result"
    }
   ],
   "source": [
    "# two vetors that are perpendicular, have zero dot product together\n",
    "u_perp_to_v.dot(v)"
   ]
  },
  {
   "cell_type": "markdown",
   "metadata": {},
   "source": [
    "# Projections"
   ]
  },
  {
   "cell_type": "markdown",
   "metadata": {
    "collapsed": true
   },
   "source": [
    "A projection of the vector $\\vec{v}$ in the direction $\\vec{d}$ is denoted $\\Pi_{\\vec{d}}(\\vec{v})$. The formula for computing the projections uses the dot product operation:\n",
    "\n",
    "$$\n",
    "   \\Pi_{\\vec{d}}(\\vec{v})  \n",
    "      \\ \\equiv \\ \n",
    "      (\\vec{v} \\cdot \\hat{d}) \\hat{d}\n",
    "      \\ =  \\ \n",
    "      \\left(\\vec{v} \\cdot \\frac{\\vec{d}}{\\|\\vec{d}\\|} \\right) \\frac{\\vec{d}}{\\|\\vec{d}\\|}.\n",
    "$$"
   ]
  },
  {
   "cell_type": "markdown",
   "metadata": {},
   "source": [
    "## General projection operation"
   ]
  },
  {
   "cell_type": "code",
   "execution_count": 12,
   "metadata": {
    "collapsed": true
   },
   "outputs": [],
   "source": [
    "def proj(v, d):\n",
    "    \"\"\"Computes the projection of vector `v` onto direction `d`.\"\"\"\n",
    "    return v.dot( d/d.norm() )*( d/d.norm() )"
   ]
  },
  {
   "cell_type": "code",
   "execution_count": 13,
   "metadata": {},
   "outputs": [
    {
     "data": {
      "image/png": "[encoded data removed]",
      "text/plain": [
       "<matplotlib.figure.Figure at 0x10fecdeb8>"
      ]
     },
     "metadata": {},
     "output_type": "display_data"
    }
   ],
   "source": [
    "v = Vector([2,2])\n",
    "d = Vector([3,0])\n",
    "proj_v_on_d = proj(v,d)\n",
    "\n",
    "plot_vecs(d, v, proj_v_on_d)\n",
    "autoscale_arrows()"
   ]
  },
  {
   "cell_type": "markdown",
   "metadata": {},
   "source": [
    "Projections play an important role in physics. For example, when solving a two dimensional projectile problem we often decompose vector quantities like forces $\\vec{F}$, velocities $\\vec{v}$, and momenta $\\vec{p}$ into their $x$- and $y$-components: $(F_x,F_y)$, $(v_x,v_y)$, and $(p_x,p_y)$. This decomposition of vectors can transform a complicated two-dimensional problem into two simpler one-dimensaional problems, which can be solved independetly."
   ]
  },
  {
   "cell_type": "markdown",
   "metadata": {},
   "source": [
    "## Example: projection onto the line with equation $y=x$"
   ]
  },
  {
   "cell_type": "code",
   "execution_count": 14,
   "metadata": {},
   "outputs": [
    {
     "data": {
      "image/png": "[encoded data removed]",
      "text/plain": [
       "<matplotlib.figure.Figure at 0x110085828>"
      ]
     },
     "metadata": {},
     "output_type": "display_data"
    }
   ],
   "source": [
    "# The line with equation y = x can also be written as a paramteric equation \n",
    "# [x,y] = [0,0] + s*[1,1] where d = [1,1] is called the direction vector the line\n",
    "d = Vector([1,1])\n",
    "\n",
    "plot_line(d,[0,0])"
   ]
  },
  {
   "cell_type": "markdown",
   "metadata": {},
   "source": [
    "## Take 1: using projection operation"
   ]
  },
  {
   "cell_type": "code",
   "execution_count": 15,
   "metadata": {},
   "outputs": [
    {
     "data": {
      "image/png": "[encoded data removed]",
      "text/latex": [
       "$$\\left[\\begin{matrix}\\frac{5}{2}\\\\\\frac{5}{2}\\end{matrix}\\right]$$"
      ],
      "text/plain": [
       "⎡5/2⎤\n",
       "⎢   ⎥\n",
       "⎣5/2⎦"
      ]
     },
     "execution_count": 15,
     "metadata": {},
     "output_type": "execute_result"
    },
    {
     "data": {
      "image/png": "[encoded data removed]",
      "text/plain": [
       "<matplotlib.figure.Figure at 0x10fe3e5f8>"
      ]
     },
     "metadata": {},
     "output_type": "display_data"
    }
   ],
   "source": [
    "# want a function that computes the projection onto the line with equation y = x for any vec\n",
    "def P(vec):\n",
    "    \"\"\"Compute the projection of vector `vec` onto line y=x.\"\"\"\n",
    "    return proj(vec, d)\n",
    "\n",
    "v = Vector([5,0])\n",
    "\n",
    "plot_line(d,[0,0])\n",
    "plot_vecs(v, P(v))\n",
    "P(v)"
   ]
  },
  {
   "cell_type": "markdown",
   "metadata": {},
   "source": [
    "# Vector functions"
   ]
  },
  {
   "cell_type": "markdown",
   "metadata": {
    "collapsed": true
   },
   "source": [
    "Observe that the function `P` is a *vector function*—a function that takes vectors as inputs and produces vectors as outputs. In mathematical notation we write this as\n",
    "\n",
    "$$\n",
    "  P : \\mathbb{R}^2 \\to \\mathbb{R}^2.\n",
    "$$"
   ]
  },
  {
   "cell_type": "markdown",
   "metadata": {},
   "source": [
    "## Linear property: "
   ]
  },
  {
   "cell_type": "markdown",
   "metadata": {
    "collapsed": true
   },
   "source": [
    "A *linear transformation* $T$ is a vector function that obeys the linear property:\n",
    "\n",
    "$$\n",
    " T(a\\vec{x} + b\\vec{y}) = aT(\\vec{x}) + bT(\\vec{y}).\n",
    "$$"
   ]
  },
  {
   "cell_type": "markdown",
   "metadata": {},
   "source": [
    "## Take 2: projection transformation P"
   ]
  },
  {
   "cell_type": "markdown",
   "metadata": {},
   "source": [
    "The projection $P$ is a linear transformation, so it obeeys:\n",
    "\n",
    "$$\n",
    " P\\left( \\begin{bmatrix}a \\\\ b \\end{bmatrix} \\right)\n",
    " = P(a\\hat{\\imath} + b\\hat{\\jmath}) \n",
    " = aP(\\hat{\\imath}) + bP(\\hat{\\jmath}).\n",
    "$$"
   ]
  },
  {
   "cell_type": "code",
   "execution_count": 16,
   "metadata": {},
   "outputs": [
    {
     "data": {
      "image/png": "[encoded data removed]",
      "text/latex": [
       "$$\\left ( \\left[\\begin{matrix}\\frac{1}{2}\\\\\\frac{1}{2}\\end{matrix}\\right], \\quad \\left[\\begin{matrix}\\frac{1}{2}\\\\\\frac{1}{2}\\end{matrix}\\right]\\right )$$"
      ],
      "text/plain": [
       "⎛⎡1/2⎤, ⎡1/2⎤⎞\n",
       "⎜⎢   ⎥  ⎢   ⎥⎟\n",
       "⎝⎣1/2⎦  ⎣1/2⎦⎠"
      ]
     },
     "execution_count": 16,
     "metadata": {},
     "output_type": "execute_result"
    }
   ],
   "source": [
    "ihat = Vector([1,0])\n",
    "jhat = Vector([0,1])\n",
    "\n",
    "Pihat = P(ihat)\n",
    "Pjhat = P(jhat)\n",
    "\n",
    "Pihat, Pjhat"
   ]
  },
  {
   "cell_type": "code",
   "execution_count": 17,
   "metadata": {},
   "outputs": [
    {
     "data": {
      "image/png": "[encoded data removed]",
      "text/plain": [
       "<matplotlib.figure.Figure at 0x1101864e0>"
      ]
     },
     "metadata": {},
     "output_type": "display_data"
    }
   ],
   "source": [
    "def P2(vec):\n",
    "    \"\"\"Compute the projection of vector `vec` onto line y=x.\"\"\"\n",
    "    return vec[0]*Pihat + vec[1]*Pjhat\n",
    "\n",
    "v = Vector([5,0])\n",
    "\n",
    "plot_line(d,[0,0])\n",
    "plot_vecs(v, P2(v))"
   ]
  },
  {
   "cell_type": "markdown",
   "metadata": {},
   "source": [
    " \n",
    "   "
   ]
  },
  {
   "cell_type": "markdown",
   "metadata": {},
   "source": [
    "## Take 3: linear transformation as matrix-vector product"
   ]
  },
  {
   "cell_type": "markdown",
   "metadata": {},
   "source": [
    "## Matrix definition"
   ]
  },
  {
   "cell_type": "markdown",
   "metadata": {},
   "source": [
    "$$\n",
    "  \\alpha \\vec{u} + \\beta \\vec{v}\n",
    "  =\n",
    "  \\alpha \n",
    "  \\begin{bmatrix}u_1 \\\\ u_2 \\end{bmatrix}\n",
    "  +\n",
    "  \\beta\n",
    "  \\begin{bmatrix}v_1 \\\\ v_2 \\end{bmatrix}\n",
    "  =\n",
    "  \\begin{bmatrix}u_1 & v_1 \\\\ u_2 & v_2 \\end{bmatrix}\n",
    "  \\!\n",
    "  \\begin{bmatrix} \\alpha \\\\ \\beta \\end{bmatrix}.\n",
    "$$"
   ]
  },
  {
   "cell_type": "code",
   "execution_count": 18,
   "metadata": {},
   "outputs": [
    {
     "data": {
      "image/png": "[encoded data removed]",
      "text/latex": [
       "$$\\left[\\begin{matrix}\\frac{1}{2} & \\frac{1}{2}\\\\\\frac{1}{2} & \\frac{1}{2}\\end{matrix}\\right]$$"
      ],
      "text/plain": [
       "⎡1/2  1/2⎤\n",
       "⎢        ⎥\n",
       "⎣1/2  1/2⎦"
      ]
     },
     "execution_count": 18,
     "metadata": {},
     "output_type": "execute_result"
    }
   ],
   "source": [
    "M_P = Matrix([[1,1],\n",
    "              [1,1]])/2\n",
    "\n",
    "M_P"
   ]
  },
  {
   "cell_type": "code",
   "execution_count": 19,
   "metadata": {},
   "outputs": [
    {
     "data": {
      "image/png": "[encoded data removed]",
      "text/plain": [
       "<matplotlib.figure.Figure at 0x11018c320>"
      ]
     },
     "metadata": {},
     "output_type": "display_data"
    }
   ],
   "source": [
    "def P3(vec):\n",
    "    \"\"\"Compute the projection of vector `vec` onto the line y=x.\"\"\"\n",
    "    return M_P*vec\n",
    "\n",
    "v = Vector([4,0])\n",
    "\n",
    "plot_line(d, [0,0])\n",
    "plot_vecs(v, P3(v))"
   ]
  },
  {
   "cell_type": "code",
   "execution_count": 20,
   "metadata": {},
   "outputs": [
    {
     "data": {
      "image/png": "[encoded data removed]",
      "text/latex": [
       "$$\\left ( 2, \\quad 2\\right )$$"
      ],
      "text/plain": [
       "(2, 2)"
      ]
     },
     "execution_count": 20,
     "metadata": {},
     "output_type": "execute_result"
    }
   ],
   "source": [
    "M_P.shape"
   ]
  },
  {
   "cell_type": "markdown",
   "metadata": {},
   "source": [
    "Equivalence relationship between linear transformstions $T$ and matrices $M_T$:\n",
    "    \n",
    "$$\n",
    "  T : \\mathbb{R}^n \\to \\mathbb{R}^m\n",
    "  \\qquad\n",
    "  \\Leftrightarrow\n",
    "  \\qquad\n",
    "  M_T \\in \\mathbb{R}^{m \\times n}\n",
    "$$"
   ]
  },
  {
   "cell_type": "markdown",
   "metadata": {},
   "source": [
    "# Matrices"
   ]
  },
  {
   "cell_type": "markdown",
   "metadata": {},
   "source": [
    "A matrix is a two-dimensional array of numbers."
   ]
  },
  {
   "cell_type": "markdown",
   "metadata": {},
   "source": [
    "### Example"
   ]
  },
  {
   "cell_type": "code",
   "execution_count": 21,
   "metadata": {},
   "outputs": [
    {
     "data": {
      "image/png": "[encoded data removed]",
      "text/latex": [
       "$$\\left[\\begin{matrix}1 & 2\\\\3 & 4\\\\5 & 6\\end{matrix}\\right]$$"
      ],
      "text/plain": [
       "⎡1  2⎤\n",
       "⎢    ⎥\n",
       "⎢3  4⎥\n",
       "⎢    ⎥\n",
       "⎣5  6⎦"
      ]
     },
     "execution_count": 21,
     "metadata": {},
     "output_type": "execute_result"
    }
   ],
   "source": [
    "A = Matrix([[1,2],\n",
    "            [3,4],\n",
    "            [5,6]])\n",
    "A"
   ]
  },
  {
   "cell_type": "code",
   "execution_count": 22,
   "metadata": {},
   "outputs": [
    {
     "data": {
      "image/png": "[encoded data removed]",
      "text/latex": [
       "$$\\left ( 3, \\quad 2\\right )$$"
      ],
      "text/plain": [
       "(3, 2)"
      ]
     },
     "execution_count": 22,
     "metadata": {},
     "output_type": "execute_result"
    }
   ],
   "source": [
    "A.shape"
   ]
  },
  {
   "cell_type": "markdown",
   "metadata": {},
   "source": [
    "## Matrix operations"
   ]
  },
  {
   "cell_type": "markdown",
   "metadata": {
    "collapsed": true
   },
   "source": [
    "  - Addition (denoted $A+B$)\n",
    "  - Subtraction, the inverse of addition (denoted $A-B$)\n",
    "  - Scaling by a constant $\\alpha$  (denoted $\\alpha A$)\n",
    "  - Matrix-vector product (denoted $A\\vec{x}$) \n",
    "  - Matrix product (denoted $AB$) \n",
    "  - Matrix inverse (denoted $A^{-1}$)\n",
    "  - Trace (denoted $\\textrm{Tr}(A)$)\n",
    "  - Determinant (denoted $\\textrm{det}(A)$ or $|A|$)"
   ]
  },
  {
   "cell_type": "markdown",
   "metadata": {},
   "source": [
    "### Matrix-vector product\n",
    "\n",
    "$$\n",
    "  A \\vec{x}\n",
    "  \\quad\n",
    "  \\Leftrightarrow\n",
    "  \\quad\n",
    "    \\begin{bmatrix}\n",
    "    a_{11} & a_{12} \\\\\n",
    "    a_{21} & a_{22} \\\\\n",
    "    a_{31} & a_{32} \n",
    "    \\end{bmatrix}\n",
    "    \\!\\!\n",
    "    \\begin{bmatrix}\n",
    "    x_1 \\\\\n",
    "    x_2 \n",
    "    \\end{bmatrix}\n",
    " \\equiv \n",
    "    \\begin{bmatrix}\n",
    "    x_1a_{11} + x_2a_{12} \\\\\n",
    "    x_1a_{21} + x_2a_{22} \\\\\n",
    "    x_1a_{31} + x_2a_{32} \n",
    "    \\end{bmatrix}\n",
    "$$\n",
    "\n",
    "The matrix-vector product is defined this way so it can represent linear transformations."
   ]
  },
  {
   "cell_type": "code",
   "execution_count": 23,
   "metadata": {},
   "outputs": [
    {
     "data": {
      "image/png": "[encoded data removed]",
      "text/latex": [
       "$$\\left[\\begin{matrix}a_{11} x_{1} + a_{12} x_{2}\\\\a_{21} x_{1} + a_{22} x_{2}\\\\a_{31} x_{1} + a_{32} x_{2}\\end{matrix}\\right]$$"
      ],
      "text/plain": [
       "⎡a₁₁⋅x₁ + a₁₂⋅x₂⎤\n",
       "⎢               ⎥\n",
       "⎢a₂₁⋅x₁ + a₂₂⋅x₂⎥\n",
       "⎢               ⎥\n",
       "⎣a₃₁⋅x₁ + a₃₂⋅x₂⎦"
      ]
     },
     "execution_count": 23,
     "metadata": {},
     "output_type": "execute_result"
    }
   ],
   "source": [
    "a_11, a_12, a_21, a_22, a_31, a_32 = symbols('a_11 a_12 a_21 a_22 a_31 a_32')\n",
    "x_1, x_2 = symbols('x_1 x_2')\n",
    "\n",
    "A = Matrix([\n",
    "        [a_11, a_12],\n",
    "        [a_21, a_22], \n",
    "        [a_31, a_32]])\n",
    "x = Vector([x_1,x_2])\n",
    "\n",
    "A*x"
   ]
  },
  {
   "cell_type": "markdown",
   "metadata": {},
   "source": [
    " "
   ]
  },
  {
   "cell_type": "markdown",
   "metadata": {},
   "source": [
    "### Matrix-matrix product\n",
    "\n",
    "$$\n",
    "  AB\n",
    "  \\quad \\Leftrightarrow  \\quad\n",
    "\\begin{bmatrix}\n",
    " a_{11} \t\t&  a_{12}\t \\\\[1.5mm]\n",
    " a_{21} \t\t&  a_{22}\t \\\\[1.5mm]\n",
    " a_{31} \t\t&  a_{32}\t \n",
    "\\end{bmatrix}\n",
    "\\!\\!\n",
    "\\begin{bmatrix}\n",
    " b_{11} \t\t&  b_{12}\t \\\\[1.5mm]\n",
    " b_{21} \t\t&  b_{22}\t \\\\\n",
    "\\end{bmatrix}\n",
    "=\n",
    "\\begin{bmatrix}\n",
    "a_{11}b_{11} + a_{12}b_{21} \t&  a_{11}b_{12} + a_{12}b_{22} \t \\\\[1.5mm]\n",
    "a_{21}b_{11} + a_{22}b_{21} \t&  a_{21}b_{12} + a_{22}b_{22} \t \\\\[1.5mm]\n",
    "a_{31}b_{11} + a_{32}b_{21} \t&  a_{31}b_{12} + a_{32}b_{22} \t \n",
    "\\end{bmatrix}\n",
    "$$"
   ]
  },
  {
   "cell_type": "code",
   "execution_count": 24,
   "metadata": {},
   "outputs": [
    {
     "data": {
      "image/png": "[encoded data removed]",
      "text/latex": [
       "$$\\left[\\begin{matrix}a_{11} b_{11} + a_{12} b_{21} & a_{11} b_{12} + a_{12} b_{22}\\\\a_{21} b_{11} + a_{22} b_{21} & a_{21} b_{12} + a_{22} b_{22}\\\\a_{31} b_{11} + a_{32} b_{21} & a_{31} b_{12} + a_{32} b_{22}\\end{matrix}\\right]$$"
      ],
      "text/plain": [
       "⎡a₁₁⋅b₁₁ + a₁₂⋅b₂₁  a₁₁⋅b₁₂ + a₁₂⋅b₂₂⎤\n",
       "⎢                                    ⎥\n",
       "⎢a₂₁⋅b₁₁ + a₂₂⋅b₂₁  a₂₁⋅b₁₂ + a₂₂⋅b₂₂⎥\n",
       "⎢                                    ⎥\n",
       "⎣a₃₁⋅b₁₁ + a₃₂⋅b₂₁  a₃₁⋅b₁₂ + a₃₂⋅b₂₂⎦"
      ]
     },
     "execution_count": 24,
     "metadata": {},
     "output_type": "execute_result"
    }
   ],
   "source": [
    "b_11, b_12, b_21, b_22 = symbols('b_11 b_12 b_21 b_22')\n",
    "B = Matrix([[b_11, b_12],\n",
    "            [b_21, b_22]])\n",
    "\n",
    "A*B"
   ]
  },
  {
   "cell_type": "code",
   "execution_count": 25,
   "metadata": {},
   "outputs": [
    {
     "data": {
      "text/plain": [
       "True"
      ]
     },
     "execution_count": 25,
     "metadata": {},
     "output_type": "execute_result"
    }
   ],
   "source": [
    "#  (AB)_ij = dot product of ith row of A with jth col of B\n",
    "(A*B)[2,1] == A[2,:].dot( B[:,1])"
   ]
  },
  {
   "cell_type": "markdown",
   "metadata": {},
   "source": [
    "The matrix-matrix product implements **composition of linear transformations**:"
   ]
  },
  {
   "cell_type": "code",
   "execution_count": 26,
   "metadata": {},
   "outputs": [
    {
     "data": {
      "image/png": "[encoded data removed]",
      "text/latex": [
       "$$\\left[\\begin{matrix}a_{11} \\left(b_{11} x_{1} + b_{12} x_{2}\\right) + a_{12} \\left(b_{21} x_{1} + b_{22} x_{2}\\right)\\\\a_{21} \\left(b_{11} x_{1} + b_{12} x_{2}\\right) + a_{22} \\left(b_{21} x_{1} + b_{22} x_{2}\\right)\\\\a_{31} \\left(b_{11} x_{1} + b_{12} x_{2}\\right) + a_{32} \\left(b_{21} x_{1} + b_{22} x_{2}\\right)\\end{matrix}\\right]$$"
      ],
      "text/plain": [
       "⎡a₁₁⋅(b₁₁⋅x₁ + b₁₂⋅x₂) + a₁₂⋅(b₂₁⋅x₁ + b₂₂⋅x₂)⎤\n",
       "⎢                                             ⎥\n",
       "⎢a₂₁⋅(b₁₁⋅x₁ + b₁₂⋅x₂) + a₂₂⋅(b₂₁⋅x₁ + b₂₂⋅x₂)⎥\n",
       "⎢                                             ⎥\n",
       "⎣a₃₁⋅(b₁₁⋅x₁ + b₁₂⋅x₂) + a₃₂⋅(b₂₁⋅x₁ + b₂₂⋅x₂)⎦"
      ]
     },
     "execution_count": 26,
     "metadata": {},
     "output_type": "execute_result"
    }
   ],
   "source": [
    "A*(B*x)"
   ]
  },
  {
   "cell_type": "code",
   "execution_count": 27,
   "metadata": {},
   "outputs": [
    {
     "data": {
      "text/plain": [
       "True"
      ]
     },
     "execution_count": 27,
     "metadata": {},
     "output_type": "execute_result"
    }
   ],
   "source": [
    "expand( A*(B*x) ) == expand( (A*B)*x )"
   ]
  },
  {
   "cell_type": "code",
   "execution_count": 28,
   "metadata": {},
   "outputs": [
    {
     "data": {
      "image/png": "[encoded data removed]",
      "text/latex": [
       "$$6 x$$"
      ],
      "text/plain": [
       "6⋅x"
      ]
     },
     "execution_count": 28,
     "metadata": {},
     "output_type": "execute_result"
    }
   ],
   "source": [
    "# analogy with ordinary functions...\n",
    "x = symbols('x')\n",
    "def f(x):\n",
    "    return 2*x\n",
    "\n",
    "def g(x):\n",
    "    return  3*x\n",
    "\n",
    "f(g(x))"
   ]
  },
  {
   "cell_type": "code",
   "execution_count": 29,
   "metadata": {},
   "outputs": [
    {
     "data": {
      "image/png": "[encoded data removed]",
      "text/latex": [
       "$$6 x$$"
      ],
      "text/plain": [
       "6⋅x"
      ]
     },
     "execution_count": 29,
     "metadata": {},
     "output_type": "execute_result"
    }
   ],
   "source": [
    "def h(x):\n",
    "    return 6*x\n",
    "\n",
    "h(x)"
   ]
  },
  {
   "cell_type": "markdown",
   "metadata": {},
   "source": [
    " "
   ]
  },
  {
   "cell_type": "markdown",
   "metadata": {},
   "source": [
    "### Matrix inverse\n",
    "\n",
    "For an invertible matrix $A$, the matrix inverse $A^{-1}$ acts to undo the effects of $A$:\n",
    "\n",
    "$$\n",
    " A^{-1} A \\vec{v} = \\vec{v}.\n",
    "$$"
   ]
  },
  {
   "cell_type": "code",
   "execution_count": 30,
   "metadata": {},
   "outputs": [
    {
     "data": {
      "image/png": "[encoded data removed]",
      "text/latex": [
       "$$\\left[\\begin{matrix}3 & - \\frac{2}{3}\\\\-1 & \\frac{1}{3}\\end{matrix}\\right]$$"
      ],
      "text/plain": [
       "⎡3   -2/3⎤\n",
       "⎢        ⎥\n",
       "⎣-1  1/3 ⎦"
      ]
     },
     "execution_count": 30,
     "metadata": {},
     "output_type": "execute_result"
    }
   ],
   "source": [
    "A = Matrix([[1,2],\n",
    "            [3,9]])\n",
    "\n",
    "A.inv()"
   ]
  },
  {
   "cell_type": "code",
   "execution_count": 31,
   "metadata": {},
   "outputs": [
    {
     "data": {
      "image/png": "[encoded data removed]",
      "text/latex": [
       "$$\\left[\\begin{matrix}1 & 0\\\\0 & 1\\end{matrix}\\right]$$"
      ],
      "text/plain": [
       "⎡1  0⎤\n",
       "⎢    ⎥\n",
       "⎣0  1⎦"
      ]
     },
     "execution_count": 31,
     "metadata": {},
     "output_type": "execute_result"
    }
   ],
   "source": [
    "A.inv()*A"
   ]
  },
  {
   "cell_type": "markdown",
   "metadata": {},
   "source": [
    "### Matrix equations\n",
    "\n",
    "Suppose we're given the equation\n",
    "$$\n",
    " A\\vec{x} = \\vec{b}\n",
    "$$\n",
    "and we want to solve for $\\vec{x}$.\n",
    "\n",
    "One way to find $\\vec{x}$ is to multiply both sides of the equation by $A^{-1}$:\n",
    "$$\n",
    " A^{-1}A\\vec{x} = A^{-1}\\vec{b}\n",
    "$$\n",
    "since $A^{-1}$ cancels $A$ we obtain:\n",
    "$$\n",
    " \\vec{x} = A^{-1}\\vec{b}.\n",
    "$$"
   ]
  },
  {
   "cell_type": "markdown",
   "metadata": {},
   "source": [
    "#### Example\n",
    "\n",
    "$$\n",
    "    \\begin{bmatrix}\n",
    "    1 & 2 \\\\\n",
    "    3 & 9\n",
    "    \\end{bmatrix}\n",
    "    \\!\\!\n",
    "    \\begin{bmatrix}\n",
    "    x_1 \\\\\n",
    "    x_2 \n",
    "    \\end{bmatrix}\n",
    "    =\n",
    "    \\begin{bmatrix}\n",
    "    5 \\\\\n",
    "    21 \n",
    "    \\end{bmatrix}    \n",
    "\\qquad\n",
    "\\Rightarrow\n",
    "\\qquad\n",
    "    \\begin{bmatrix}\n",
    "    x_1 \\\\\n",
    "    x_2 \n",
    "    \\end{bmatrix}\n",
    "    =\n",
    "    \\begin{bmatrix}\n",
    "    1 & 2 \\\\\n",
    "    3 & 9\n",
    "    \\end{bmatrix}^{-1}\n",
    "    \\!\\!\n",
    "    \\begin{bmatrix}\n",
    "    5 \\\\\n",
    "    21 \n",
    "    \\end{bmatrix}    \n",
    "$$\n"
   ]
  },
  {
   "cell_type": "code",
   "execution_count": 32,
   "metadata": {},
   "outputs": [
    {
     "data": {
      "image/png": "[encoded data removed]",
      "text/latex": [
       "$$\\left[\\begin{matrix}1\\\\2\\end{matrix}\\right]$$"
      ],
      "text/plain": [
       "⎡1⎤\n",
       "⎢ ⎥\n",
       "⎣2⎦"
      ]
     },
     "execution_count": 32,
     "metadata": {},
     "output_type": "execute_result"
    }
   ],
   "source": [
    "A = Matrix([[1,2],\n",
    "            [3,9]])\n",
    "\n",
    "b = Vector([5,21]) \n",
    "\n",
    "x = A.inv()*b\n",
    "x"
   ]
  },
  {
   "cell_type": "code",
   "execution_count": 33,
   "metadata": {},
   "outputs": [
    {
     "data": {
      "image/png": "[encoded data removed]",
      "text/latex": [
       "$$\\left[\\begin{matrix}5\\\\21\\end{matrix}\\right]$$"
      ],
      "text/plain": [
       "⎡5 ⎤\n",
       "⎢  ⎥\n",
       "⎣21⎦"
      ]
     },
     "execution_count": 33,
     "metadata": {},
     "output_type": "execute_result"
    }
   ],
   "source": [
    "# verify A*x == b\n",
    "A*x "
   ]
  },
  {
   "cell_type": "markdown",
   "metadata": {},
   "source": [
    "## Gauss-Jordan elimination procedure for matrices"
   ]
  },
  {
   "cell_type": "markdown",
   "metadata": {
    "collapsed": true
   },
   "source": [
    "Used to transform any matrix into *reduced row echelon form* (RREF) by performing row operations. \n",
    "This procedure has applications to solving equations, finding matrix inverses, and solving certain vector space problems."
   ]
  },
  {
   "cell_type": "markdown",
   "metadata": {},
   "source": [
    "# Linear transformations"
   ]
  },
  {
   "cell_type": "markdown",
   "metadata": {
    "collapsed": true
   },
   "source": [
    "We can understand the properties of linear transformations $T$, and their matrix representations $M_T$ in analogy with ordinary functions:\n",
    "\n",
    "\\begin{align*}\n",
    "    \\textrm{function } \n",
    "     f:\\mathbb{R}\\to \\mathbb{R}\n",
    "         & \\ \\Leftrightarrow \\,\n",
    "         \\begin{array}{l}\n",
    "    \\textrm{linear transformation } \n",
    "    T:\\mathbb{R}^{n}\\! \\to \\mathbb{R}^{m}\t\t \\\\\n",
    "    \\textrm{represented by the matrix } M_T \\in \\mathbb{R}^{m \\times n}\n",
    "    \\end{array} \\\\\n",
    "    %\n",
    "    \\textrm{input }  x\\in \\mathbb{R} \t\n",
    "         & \\ \\Leftrightarrow \\  \n",
    "        \\textrm{input }  \\vec{x} \\in \\mathbb{R}^n           \\\\\n",
    "    %\\textrm{compute } \n",
    "    \\textrm{output } f(x) \\in \\mathbb{R}\n",
    "         & \\ \\Leftrightarrow \\\n",
    "    %      \\textrm{compute matrix-vector product } \n",
    "     \\textrm{output }      T(\\vec{x}) \\equiv M_T\\vec{x} \\in \\mathbb{R}^m \\\\\n",
    "    %\\textrm{function composition  } \n",
    "    g\\circ\\! f \\: (x) =  g(f(x))\n",
    "         & \\ \\Leftrightarrow \\\n",
    "    %      \\textrm{matrix product } \n",
    "    S(T(\\vec{x})) \\equiv M_SM_T \\vec{x} \\\\\n",
    "    \\textrm{function inverse } f^{-1}\n",
    "         & \\ \\Leftrightarrow \\ \n",
    "          \\textrm{matrix inverse } M_T^{-1} \\\\\n",
    "    \\textrm{zeros of } f\n",
    "         & \\ \\Leftrightarrow \\\n",
    "          \\textrm{kernel of } T  \\equiv  \\textrm{null space of } M_T \\equiv \\mathcal{N}(A)  \\\\\n",
    "    \\textrm{image of } f\n",
    "         & \\ \\Leftrightarrow \\ \n",
    "             \\begin{array}{l}\n",
    "             \\textrm{image of } T \\equiv  \\textrm{column space of } M_T  \\equiv \\mathcal{C}(A) \n",
    "              \\end{array}\n",
    "\\end{align*}\n",
    "\n",
    "Observe we refer to the linear transformation $T$ and its matrix representation $M_T$ interchangeably."
   ]
  }
 ],
 "metadata": {
  "kernelspec": {
   "display_name": "Python 3",
   "language": "python",
   "name": "python3"
  },
  "language_info": {
   "codemirror_mode": {
    "name": "ipython",
    "version": 3
   },
   "file_extension": ".py",
   "mimetype": "text/x-python",
   "name": "python",
   "nbconvert_exporter": "python",
   "pygments_lexer": "ipython3",
   "version": "3.6.9"
  },
  "widgets": {
   "state": {},
   "version": "1.1.1"
  }
 },
 "nbformat": 4,
 "nbformat_minor": 1
}
