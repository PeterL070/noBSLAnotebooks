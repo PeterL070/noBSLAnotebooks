{
 "cells": [
  {
   "cell_type": "markdown",
   "metadata": {},
   "source": [
    "# 2/ Definitions"
   ]
  },
  {
   "cell_type": "code",
   "execution_count": 9,
   "metadata": {},
   "outputs": [],
   "source": [
    "# helper code needed for running in colab\n",
    "if 'google.colab' in str(get_ipython()):\n",
    "    print('Downloading plot_helpers.py to util/ (only neded for colab')\n",
    "    !mkdir util; wget https://raw.githubusercontent.com/minireference/noBSLAnotebooks/master/util/plot_helpers.py -P util"
   ]
  },
  {
   "cell_type": "code",
   "execution_count": 10,
   "metadata": {},
   "outputs": [],
   "source": [
    "# setup SymPy\n",
    "from sympy import *\n",
    "x, y, z, t = symbols('x y z t')\n",
    "init_printing()\n",
    "\n",
    "# setup plotting\n",
    "%matplotlib inline\n",
    "import matplotlib.pyplot as mpl\n",
    "from util.plot_helpers import plot_vec, plot_vecs, autoscale_arrows"
   ]
  },
  {
   "cell_type": "markdown",
   "metadata": {},
   "source": [
    "## SymPy Matrix objects"
   ]
  },
  {
   "cell_type": "code",
   "execution_count": 11,
   "metadata": {},
   "outputs": [
    {
     "data": {
      "text/latex": [
       "$\\displaystyle \\left[\\begin{matrix}1\\\\2\\\\3\\end{matrix}\\right]$"
      ],
      "text/plain": [
       "⎡1⎤\n",
       "⎢ ⎥\n",
       "⎢2⎥\n",
       "⎢ ⎥\n",
       "⎣3⎦"
      ]
     },
     "execution_count": 11,
     "metadata": {},
     "output_type": "execute_result"
    }
   ],
   "source": [
    "v = Matrix([1,2,3])\n",
    "v"
   ]
  },
  {
   "cell_type": "code",
   "execution_count": 12,
   "metadata": {},
   "outputs": [],
   "source": [
    "# define symbolically\n",
    "v_1, v_2, v_3 = symbols('v_1 v_2 v_3')\n",
    "v = Matrix([v_1,v_2,v_3])"
   ]
  },
  {
   "cell_type": "code",
   "execution_count": 13,
   "metadata": {},
   "outputs": [
    {
     "data": {
      "text/latex": [
       "$\\displaystyle \\left[\\begin{matrix}v_{1}\\\\v_{2}\\\\v_{3}\\end{matrix}\\right]$"
      ],
      "text/plain": [
       "⎡v₁⎤\n",
       "⎢  ⎥\n",
       "⎢v₂⎥\n",
       "⎢  ⎥\n",
       "⎣v₃⎦"
      ]
     },
     "execution_count": 13,
     "metadata": {},
     "output_type": "execute_result"
    }
   ],
   "source": [
    "v"
   ]
  },
  {
   "cell_type": "code",
   "execution_count": 14,
   "metadata": {},
   "outputs": [
    {
     "data": {
      "text/latex": [
       "$\\displaystyle \\left[\\begin{matrix}v_{1} & v_{2} & v_{3}\\end{matrix}\\right]$"
      ],
      "text/plain": [
       "[v₁  v₂  v₃]"
      ]
     },
     "execution_count": 14,
     "metadata": {},
     "output_type": "execute_result"
    }
   ],
   "source": [
    "v.T"
   ]
  },
  {
   "cell_type": "code",
   "execution_count": 15,
   "metadata": {},
   "outputs": [
    {
     "data": {
      "text/latex": [
       "$\\displaystyle \\left[\\begin{matrix}1 & 7\\\\2 & 8\\\\3 & 9\\end{matrix}\\right]$"
      ],
      "text/plain": [
       "⎡1  7⎤\n",
       "⎢    ⎥\n",
       "⎢2  8⎥\n",
       "⎢    ⎥\n",
       "⎣3  9⎦"
      ]
     },
     "execution_count": 15,
     "metadata": {},
     "output_type": "execute_result"
    }
   ],
   "source": [
    "A = Matrix(\n",
    "    [   [1,7],\n",
    "        [2,8], \n",
    "        [3,9]   ])\n",
    "A"
   ]
  },
  {
   "cell_type": "code",
   "execution_count": 16,
   "metadata": {},
   "outputs": [],
   "source": [
    "# define symbolically\n",
    "a_11, a_12, a_21, a_22, a_31, a_32 = symbols('a_11 a_12 a_21 a_22 a_31 a_32')\n",
    "A = Matrix([\n",
    "        [a_11, a_12],\n",
    "        [a_21, a_22], \n",
    "        [a_31, a_32]])"
   ]
  },
  {
   "cell_type": "code",
   "execution_count": 17,
   "metadata": {},
   "outputs": [
    {
     "data": {
      "text/latex": [
       "$\\displaystyle \\left[\\begin{matrix}a_{11} & a_{12}\\\\a_{21} & a_{22}\\\\a_{31} & a_{32}\\end{matrix}\\right]$"
      ],
      "text/plain": [
       "⎡a₁₁  a₁₂⎤\n",
       "⎢        ⎥\n",
       "⎢a₂₁  a₂₂⎥\n",
       "⎢        ⎥\n",
       "⎣a₃₁  a₃₂⎦"
      ]
     },
     "execution_count": 17,
     "metadata": {},
     "output_type": "execute_result"
    }
   ],
   "source": [
    "A"
   ]
  },
  {
   "cell_type": "markdown",
   "metadata": {},
   "source": [
    "## Vector operations"
   ]
  },
  {
   "cell_type": "code",
   "execution_count": 18,
   "metadata": {},
   "outputs": [
    {
     "data": {
      "text/latex": [
       "$\\displaystyle \\left[\\begin{matrix}u_{1}\\\\u_{2}\\\\u_{3}\\end{matrix}\\right]$"
      ],
      "text/plain": [
       "⎡u₁⎤\n",
       "⎢  ⎥\n",
       "⎢u₂⎥\n",
       "⎢  ⎥\n",
       "⎣u₃⎦"
      ]
     },
     "execution_count": 18,
     "metadata": {},
     "output_type": "execute_result"
    }
   ],
   "source": [
    "u_1, u_2, u_3 = symbols('u_1 u_2 u_3')\n",
    "u = Matrix([u_1,u_2,u_3])\n",
    "v_1, v_2, v_3 = symbols('v_1 v_2 v_3')\n",
    "v = Matrix([v_1,v_2,v_3])\n",
    "alpha = symbols('alpha')\n",
    "\n",
    "u"
   ]
  },
  {
   "cell_type": "code",
   "execution_count": 19,
   "metadata": {},
   "outputs": [
    {
     "data": {
      "text/latex": [
       "$\\displaystyle \\left[\\begin{matrix}\\alpha u_{1}\\\\\\alpha u_{2}\\\\\\alpha u_{3}\\end{matrix}\\right]$"
      ],
      "text/plain": [
       "⎡α⋅u₁⎤\n",
       "⎢    ⎥\n",
       "⎢α⋅u₂⎥\n",
       "⎢    ⎥\n",
       "⎣α⋅u₃⎦"
      ]
     },
     "execution_count": 19,
     "metadata": {},
     "output_type": "execute_result"
    }
   ],
   "source": [
    "alpha*u"
   ]
  },
  {
   "cell_type": "code",
   "execution_count": 20,
   "metadata": {},
   "outputs": [
    {
     "data": {
      "text/latex": [
       "$\\displaystyle \\left[\\begin{matrix}u_{1} + v_{1}\\\\u_{2} + v_{2}\\\\u_{3} + v_{3}\\end{matrix}\\right]$"
      ],
      "text/plain": [
       "⎡u₁ + v₁⎤\n",
       "⎢       ⎥\n",
       "⎢u₂ + v₂⎥\n",
       "⎢       ⎥\n",
       "⎣u₃ + v₃⎦"
      ]
     },
     "execution_count": 20,
     "metadata": {},
     "output_type": "execute_result"
    }
   ],
   "source": [
    "u+v"
   ]
  },
  {
   "cell_type": "code",
   "execution_count": 21,
   "metadata": {},
   "outputs": [
    {
     "data": {
      "image/png": "[encoded data removed]",
      "text/latex": [
       "$\\displaystyle \\sqrt{\\left|{u_{1}}\\right|^{2} + \\left|{u_{2}}\\right|^{2} + \\left|{u_{3}}\\right|^{2}}$"
      ],
      "text/plain": [
       "   _______________________\n",
       "  ╱     2       2       2 \n",
       "╲╱  │u₁│  + │u₂│  + │u₃│  "
      ]
     },
     "execution_count": 21,
     "metadata": {},
     "output_type": "execute_result"
    }
   ],
   "source": [
    "u.norm()"
   ]
  },
  {
   "cell_type": "code",
   "execution_count": 22,
   "metadata": {},
   "outputs": [
    {
     "data": {
      "text/latex": [
       "$\\displaystyle \\left[\\begin{matrix}\\frac{u_{1}}{\\sqrt{\\left|{u_{1}}\\right|^{2} + \\left|{u_{2}}\\right|^{2} + \\left|{u_{3}}\\right|^{2}}}\\\\\\frac{u_{2}}{\\sqrt{\\left|{u_{1}}\\right|^{2} + \\left|{u_{2}}\\right|^{2} + \\left|{u_{3}}\\right|^{2}}}\\\\\\frac{u_{3}}{\\sqrt{\\left|{u_{1}}\\right|^{2} + \\left|{u_{2}}\\right|^{2} + \\left|{u_{3}}\\right|^{2}}}\\end{matrix}\\right]$"
      ],
      "text/plain": [
       "⎡            u₁            ⎤\n",
       "⎢──────────────────────────⎥\n",
       "⎢   _______________________⎥\n",
       "⎢  ╱     2       2       2 ⎥\n",
       "⎢╲╱  │u₁│  + │u₂│  + │u₃│  ⎥\n",
       "⎢                          ⎥\n",
       "⎢            u₂            ⎥\n",
       "⎢──────────────────────────⎥\n",
       "⎢   _______________________⎥\n",
       "⎢  ╱     2       2       2 ⎥\n",
       "⎢╲╱  │u₁│  + │u₂│  + │u₃│  ⎥\n",
       "⎢                          ⎥\n",
       "⎢            u₃            ⎥\n",
       "⎢──────────────────────────⎥\n",
       "⎢   _______________________⎥\n",
       "⎢  ╱     2       2       2 ⎥\n",
       "⎣╲╱  │u₁│  + │u₂│  + │u₃│  ⎦"
      ]
     },
     "execution_count": 22,
     "metadata": {},
     "output_type": "execute_result"
    }
   ],
   "source": [
    "uhat = u/u.norm()\n",
    "uhat"
   ]
  },
  {
   "cell_type": "code",
   "execution_count": 23,
   "metadata": {},
   "outputs": [
    {
     "data": {
      "image/png": "[encoded data removed]",
      "text/plain": [
       "<Figure size 640x480 with 1 Axes>"
      ]
     },
     "metadata": {},
     "output_type": "display_data"
    }
   ],
   "source": [
    "u = Matrix([1.5,1])\n",
    "w = 2*u\n",
    "uhat = u/u.norm()\n",
    "\n",
    "fig = mpl.figure()\n",
    "plot_vecs(u, w, uhat)\n",
    "autoscale_arrows()"
   ]
  },
  {
   "cell_type": "markdown",
   "metadata": {},
   "source": [
    "### Dot product"
   ]
  },
  {
   "cell_type": "code",
   "execution_count": 24,
   "metadata": {},
   "outputs": [
    {
     "data": {
      "image/png": "[encoded data removed]",
      "text/latex": [
       "$\\displaystyle u_{1} v_{1} + u_{2} v_{2} + u_{3} v_{3}$"
      ],
      "text/plain": [
       "u₁⋅v₁ + u₂⋅v₂ + u₃⋅v₃"
      ]
     },
     "execution_count": 24,
     "metadata": {},
     "output_type": "execute_result"
    }
   ],
   "source": [
    "u = Matrix([u_1,u_2,u_3])\n",
    "v = Matrix([v_1,v_2,v_3])\n",
    "\n",
    "u.dot(v)"
   ]
  },
  {
   "cell_type": "code",
   "execution_count": 25,
   "metadata": {},
   "outputs": [
    {
     "data": {
      "image/png": "[encoded data removed]",
      "text/latex": [
       "$\\displaystyle 3$"
      ],
      "text/plain": [
       "3"
      ]
     },
     "execution_count": 25,
     "metadata": {},
     "output_type": "execute_result"
    },
    {
     "data": {
      "image/png": "[encoded data removed]",
      "text/plain": [
       "<Figure size 640x480 with 1 Axes>"
      ]
     },
     "metadata": {},
     "output_type": "display_data"
    }
   ],
   "source": [
    "fig = mpl.figure()\n",
    "u = Matrix([1,1])\n",
    "v = Matrix([3,0])\n",
    "plot_vecs(u,v)\n",
    "autoscale_arrows()\n",
    "\n",
    "u_dot_v = u.dot(v)\n",
    "u_dot_v"
   ]
  },
  {
   "cell_type": "code",
   "execution_count": 26,
   "metadata": {},
   "outputs": [
    {
     "name": "stdout",
     "output_type": "stream",
     "text": [
      "angle between u and v is pi/4\n"
     ]
    },
    {
     "data": {
      "image/png": "[encoded data removed]",
      "text/latex": [
       "$\\displaystyle 3$"
      ],
      "text/plain": [
       "3"
      ]
     },
     "execution_count": 26,
     "metadata": {},
     "output_type": "execute_result"
    }
   ],
   "source": [
    "phi = acos( u.dot(v)/(u.norm()*v.norm()) )\n",
    "print('angle between u and v is', phi)\n",
    "u.norm()*v.norm()*cos(phi)"
   ]
  },
  {
   "cell_type": "markdown",
   "metadata": {},
   "source": [
    "### Cross product"
   ]
  },
  {
   "cell_type": "code",
   "execution_count": 27,
   "metadata": {},
   "outputs": [
    {
     "data": {
      "text/latex": [
       "$\\displaystyle \\left[\\begin{matrix}u_{2} v_{3} - u_{3} v_{2}\\\\- u_{1} v_{3} + u_{3} v_{1}\\\\u_{1} v_{2} - u_{2} v_{1}\\end{matrix}\\right]$"
      ],
      "text/plain": [
       "⎡u₂⋅v₃ - u₃⋅v₂ ⎤\n",
       "⎢              ⎥\n",
       "⎢-u₁⋅v₃ + u₃⋅v₁⎥\n",
       "⎢              ⎥\n",
       "⎣u₁⋅v₂ - u₂⋅v₁ ⎦"
      ]
     },
     "execution_count": 27,
     "metadata": {},
     "output_type": "execute_result"
    }
   ],
   "source": [
    "u = Matrix([u_1,u_2,u_3])\n",
    "v = Matrix([v_1,v_2,v_3])\n",
    "\n",
    "u.cross(v)"
   ]
  },
  {
   "cell_type": "code",
   "execution_count": 28,
   "metadata": {},
   "outputs": [
    {
     "ename": "TypeError",
     "evalue": "gca() got an unexpected keyword argument 'projection'",
     "output_type": "error",
     "traceback": [
      "\u001b[1;31m---------------------------------------------------------------------------\u001b[0m",
      "\u001b[1;31mTypeError\u001b[0m                                 Traceback (most recent call last)",
      "Cell \u001b[1;32mIn[28], line 6\u001b[0m\n\u001b[0;32m      3\u001b[0m w \u001b[38;5;241m=\u001b[39m u\u001b[38;5;241m.\u001b[39mcross(v)      \u001b[38;5;66;03m# a vector perpendicular to both u and v\u001b[39;00m\n\u001b[0;32m      5\u001b[0m mpl\u001b[38;5;241m.\u001b[39mfigure()\n\u001b[1;32m----> 6\u001b[0m \u001b[43mplot_vecs\u001b[49m\u001b[43m(\u001b[49m\u001b[43mu\u001b[49m\u001b[43m,\u001b[49m\u001b[43m \u001b[49m\u001b[43mv\u001b[49m\u001b[43m,\u001b[49m\u001b[43m \u001b[49m\u001b[43mu\u001b[49m\u001b[38;5;241;43m.\u001b[39;49m\u001b[43mcross\u001b[49m\u001b[43m(\u001b[49m\u001b[43mv\u001b[49m\u001b[43m)\u001b[49m\u001b[43m)\u001b[49m\n",
      "File \u001b[1;32mc:\\Users\\46736\\Documents\\Coding\\noBSLAnotebooks\\util\\plot_helpers.py:55\u001b[0m, in \u001b[0;36mplot_vecs\u001b[1;34m(*args)\u001b[0m\n\u001b[0;32m     53\u001b[0m COLORS \u001b[38;5;241m=\u001b[39m [\u001b[38;5;124m'\u001b[39m\u001b[38;5;124mk\u001b[39m\u001b[38;5;124m'\u001b[39m, \u001b[38;5;124m'\u001b[39m\u001b[38;5;124mb\u001b[39m\u001b[38;5;124m'\u001b[39m, \u001b[38;5;124m'\u001b[39m\u001b[38;5;124mg\u001b[39m\u001b[38;5;124m'\u001b[39m, \u001b[38;5;124m'\u001b[39m\u001b[38;5;124mr\u001b[39m\u001b[38;5;124m'\u001b[39m, \u001b[38;5;124m'\u001b[39m\u001b[38;5;124mc\u001b[39m\u001b[38;5;124m'\u001b[39m, \u001b[38;5;124m'\u001b[39m\u001b[38;5;124mm\u001b[39m\u001b[38;5;124m'\u001b[39m]\n\u001b[0;32m     54\u001b[0m \u001b[38;5;28;01mfor\u001b[39;00m i, vec \u001b[38;5;129;01min\u001b[39;00m \u001b[38;5;28menumerate\u001b[39m(args):\n\u001b[1;32m---> 55\u001b[0m     \u001b[43mplot_vec\u001b[49m\u001b[43m(\u001b[49m\u001b[43mvec\u001b[49m\u001b[43m,\u001b[49m\u001b[43m \u001b[49m\u001b[43mcolor\u001b[49m\u001b[38;5;241;43m=\u001b[39;49m\u001b[43mCOLORS\u001b[49m\u001b[43m[\u001b[49m\u001b[43mi\u001b[49m\u001b[38;5;241;43m%\u001b[39;49m\u001b[38;5;28;43mlen\u001b[39;49m\u001b[43m(\u001b[49m\u001b[43mCOLORS\u001b[49m\u001b[43m)\u001b[49m\u001b[43m]\u001b[49m\u001b[43m)\u001b[49m\n",
      "File \u001b[1;32mc:\\Users\\46736\\Documents\\Coding\\noBSLAnotebooks\\util\\plot_helpers.py:27\u001b[0m, in \u001b[0;36mplot_vec\u001b[1;34m(vec, at, color)\u001b[0m\n\u001b[0;32m     22\u001b[0m \u001b[38;5;250m\u001b[39m\u001b[38;5;124;03m\"\"\"\u001b[39;00m\n\u001b[0;32m     23\u001b[0m \u001b[38;5;124;03mPlot the 2d or 3d vector `vec`, which can be a SymPy Matrix, a numpy array,\u001b[39;00m\n\u001b[0;32m     24\u001b[0m \u001b[38;5;124;03mor a python list.\u001b[39;00m\n\u001b[0;32m     25\u001b[0m \u001b[38;5;124;03m\"\"\"\u001b[39;00m\n\u001b[0;32m     26\u001b[0m \u001b[38;5;28;01mif\u001b[39;00m \u001b[38;5;28mlen\u001b[39m(vec) \u001b[38;5;241m==\u001b[39m \u001b[38;5;241m3\u001b[39m:\n\u001b[1;32m---> 27\u001b[0m     ax \u001b[38;5;241m=\u001b[39m \u001b[43mplt\u001b[49m\u001b[38;5;241;43m.\u001b[39;49m\u001b[43mgca\u001b[49m\u001b[43m(\u001b[49m\u001b[43mprojection\u001b[49m\u001b[38;5;241;43m=\u001b[39;49m\u001b[38;5;124;43m'\u001b[39;49m\u001b[38;5;124;43m3d\u001b[39;49m\u001b[38;5;124;43m'\u001b[39;49m\u001b[43m)\u001b[49m\n\u001b[0;32m     28\u001b[0m     ax\u001b[38;5;241m.\u001b[39mset_aspect(\u001b[38;5;124m\"\u001b[39m\u001b[38;5;124mauto\u001b[39m\u001b[38;5;124m\"\u001b[39m)\n\u001b[0;32m     29\u001b[0m     vec_x, vec_y, vec_z \u001b[38;5;241m=\u001b[39m \u001b[38;5;28mfloat\u001b[39m(vec[\u001b[38;5;241m0\u001b[39m]), \u001b[38;5;28mfloat\u001b[39m(vec[\u001b[38;5;241m1\u001b[39m]), \u001b[38;5;28mfloat\u001b[39m(vec[\u001b[38;5;241m2\u001b[39m])\n",
      "\u001b[1;31mTypeError\u001b[0m: gca() got an unexpected keyword argument 'projection'"
     ]
    },
    {
     "data": {
      "text/plain": [
       "<Figure size 640x480 with 0 Axes>"
      ]
     },
     "metadata": {},
     "output_type": "display_data"
    }
   ],
   "source": [
    "u = Matrix([1,0,0])\n",
    "v = Matrix([1,1,0])\n",
    "w = u.cross(v)      # a vector perpendicular to both u and v\n",
    "\n",
    "mpl.figure()\n",
    "plot_vecs(u, v, u.cross(v))\n"
   ]
  },
  {
   "cell_type": "code",
   "execution_count": null,
   "metadata": {},
   "outputs": [
    {
     "name": "stdout",
     "output_type": "stream",
     "text": [
      "length of cross product 1\n"
     ]
    },
    {
     "data": {
      "text/plain": [
       "True"
      ]
     },
     "execution_count": 21,
     "metadata": {},
     "output_type": "execute_result"
    }
   ],
   "source": [
    "print('length of cross product', w.norm())\n",
    "\n",
    "phi = acos( u.dot(v)/(u.norm()*v.norm()) )\n",
    "\n",
    "w.norm() == u.norm()*v.norm()*sin(phi)\n"
   ]
  },
  {
   "cell_type": "markdown",
   "metadata": {},
   "source": [
    "## Projection operation"
   ]
  },
  {
   "cell_type": "code",
   "execution_count": null,
   "metadata": {},
   "outputs": [],
   "source": [
    "def proj(vec, d):\n",
    "    \"\"\"Computes the projection of vector `vec` onto vector `d`.\"\"\"\n",
    "    return d.dot(vec)/d.norm() * d/d.norm()"
   ]
  },
  {
   "cell_type": "code",
   "execution_count": null,
   "metadata": {
    "scrolled": false
   },
   "outputs": [
    {
     "data": {
      "image/png": "[encoded data removed]",
      "text/latex": [
       "$\\displaystyle \\left( -1.0, \\  3.0\\right)$"
      ],
      "text/plain": [
       "(-1.0, 3.0)"
      ]
     },
     "execution_count": 23,
     "metadata": {},
     "output_type": "execute_result"
    },
    {
     "data": {
      "image/png": "[encoded data removed]",
      "text/plain": [
       "<Figure size 432x288 with 1 Axes>"
      ]
     },
     "metadata": {
      "needs_background": "light"
     },
     "output_type": "display_data"
    }
   ],
   "source": [
    "fig = mpl.figure()\n",
    "u = Matrix([1,1])\n",
    "v = Matrix([3,0])\n",
    "\n",
    "pu_on_v = proj(u,v)\n",
    "\n",
    "plot_vecs(u, v, pu_on_v)\n",
    "\n",
    "\n",
    "# autoscale_arrows()\n",
    "ax = mpl.gca()\n",
    "ax.set_xlim([-1,3])\n",
    "ax.set_ylim([-1,3])\n",
    "\n"
   ]
  },
  {
   "cell_type": "markdown",
   "metadata": {},
   "source": [
    "# Matrix operations"
   ]
  },
  {
   "cell_type": "code",
   "execution_count": null,
   "metadata": {},
   "outputs": [],
   "source": [
    "a_11, a_12, a_21, a_22, a_31, a_32 = symbols('a_11 a_12 a_21 a_22 a_31 a_32')\n",
    "A = Matrix([\n",
    "        [a_11, a_12],\n",
    "        [a_21, a_22], \n",
    "        [a_31, a_32]])\n",
    "b_11, b_12, b_21, b_22, b_31, b_32 = symbols('b_11 b_12 b_21 b_22 b_31 b_32')\n",
    "B = Matrix([\n",
    "        [b_11, b_12],\n",
    "        [b_21, b_22], \n",
    "        [b_31, b_32]])\n",
    "alpha = symbols('alpha')"
   ]
  },
  {
   "cell_type": "code",
   "execution_count": null,
   "metadata": {},
   "outputs": [
    {
     "data": {
      "image/png": "[encoded data removed]",
      "text/latex": [
       "$\\displaystyle \\left[\\begin{matrix}a_{11} & a_{12}\\\\a_{21} & a_{22}\\\\a_{31} & a_{32}\\end{matrix}\\right]$"
      ],
      "text/plain": [
       "⎡a₁₁  a₁₂⎤\n",
       "⎢        ⎥\n",
       "⎢a₂₁  a₂₂⎥\n",
       "⎢        ⎥\n",
       "⎣a₃₁  a₃₂⎦"
      ]
     },
     "execution_count": 25,
     "metadata": {},
     "output_type": "execute_result"
    }
   ],
   "source": [
    "A"
   ]
  },
  {
   "cell_type": "code",
   "execution_count": null,
   "metadata": {},
   "outputs": [
    {
     "data": {
      "image/png": "[encoded data removed]",
      "text/latex": [
       "$\\displaystyle \\left[\\begin{matrix}a_{11} + b_{11} & a_{12} + b_{12}\\\\a_{21} + b_{21} & a_{22} + b_{22}\\\\a_{31} + b_{31} & a_{32} + b_{32}\\end{matrix}\\right]$"
      ],
      "text/plain": [
       "⎡a₁₁ + b₁₁  a₁₂ + b₁₂⎤\n",
       "⎢                    ⎥\n",
       "⎢a₂₁ + b₂₁  a₂₂ + b₂₂⎥\n",
       "⎢                    ⎥\n",
       "⎣a₃₁ + b₃₁  a₃₂ + b₃₂⎦"
      ]
     },
     "execution_count": 26,
     "metadata": {},
     "output_type": "execute_result"
    }
   ],
   "source": [
    "A + B"
   ]
  },
  {
   "cell_type": "code",
   "execution_count": null,
   "metadata": {},
   "outputs": [
    {
     "data": {
      "image/png": "[encoded data removed]",
      "text/latex": [
       "$\\displaystyle \\left[\\begin{matrix}a_{11} \\alpha & a_{12} \\alpha\\\\a_{21} \\alpha & a_{22} \\alpha\\\\a_{31} \\alpha & a_{32} \\alpha\\end{matrix}\\right]$"
      ],
      "text/plain": [
       "⎡a₁₁⋅α  a₁₂⋅α⎤\n",
       "⎢            ⎥\n",
       "⎢a₂₁⋅α  a₂₂⋅α⎥\n",
       "⎢            ⎥\n",
       "⎣a₃₁⋅α  a₃₂⋅α⎦"
      ]
     },
     "execution_count": 27,
     "metadata": {},
     "output_type": "execute_result"
    }
   ],
   "source": [
    "alpha*A"
   ]
  },
  {
   "cell_type": "code",
   "execution_count": null,
   "metadata": {},
   "outputs": [
    {
     "data": {
      "image/png": "[encoded data removed]",
      "text/latex": [
       "$\\displaystyle \\left[\\begin{matrix}a_{11} v_{1} + a_{12} v_{2}\\\\a_{21} v_{1} + a_{22} v_{2}\\\\a_{31} v_{1} + a_{32} v_{2}\\end{matrix}\\right]$"
      ],
      "text/plain": [
       "⎡a₁₁⋅v₁ + a₁₂⋅v₂⎤\n",
       "⎢               ⎥\n",
       "⎢a₂₁⋅v₁ + a₂₂⋅v₂⎥\n",
       "⎢               ⎥\n",
       "⎣a₃₁⋅v₁ + a₃₂⋅v₂⎦"
      ]
     },
     "execution_count": 28,
     "metadata": {},
     "output_type": "execute_result"
    }
   ],
   "source": [
    "v_1, v_2 = symbols('v_1 v_2')\n",
    "v = Matrix([v_1,v_2])\n",
    "\n",
    "A*v"
   ]
  },
  {
   "cell_type": "code",
   "execution_count": null,
   "metadata": {},
   "outputs": [
    {
     "data": {
      "image/png": "[encoded data removed]",
      "text/latex": [
       "$\\displaystyle \\left[\\begin{matrix}a_{11} v_{1} + a_{12} v_{2}\\\\a_{21} v_{1} + a_{22} v_{2}\\\\a_{31} v_{1} + a_{32} v_{2}\\end{matrix}\\right]$"
      ],
      "text/plain": [
       "⎡a₁₁⋅v₁ + a₁₂⋅v₂⎤\n",
       "⎢               ⎥\n",
       "⎢a₂₁⋅v₁ + a₂₂⋅v₂⎥\n",
       "⎢               ⎥\n",
       "⎣a₃₁⋅v₁ + a₃₂⋅v₂⎦"
      ]
     },
     "execution_count": 29,
     "metadata": {},
     "output_type": "execute_result"
    }
   ],
   "source": [
    "A[:,0]*v[0] + A[:,1]*v[1]"
   ]
  },
  {
   "cell_type": "code",
   "execution_count": null,
   "metadata": {},
   "outputs": [
    {
     "data": {
      "image/png": "[encoded data removed]",
      "text/latex": [
       "$\\displaystyle \\left[\\begin{matrix}a_{11} b_{11} + a_{12} b_{21} & a_{11} b_{12} + a_{12} b_{22}\\\\a_{21} b_{11} + a_{22} b_{21} & a_{21} b_{12} + a_{22} b_{22}\\\\a_{31} b_{11} + a_{32} b_{21} & a_{31} b_{12} + a_{32} b_{22}\\end{matrix}\\right]$"
      ],
      "text/plain": [
       "⎡a₁₁⋅b₁₁ + a₁₂⋅b₂₁  a₁₁⋅b₁₂ + a₁₂⋅b₂₂⎤\n",
       "⎢                                    ⎥\n",
       "⎢a₂₁⋅b₁₁ + a₂₂⋅b₂₁  a₂₁⋅b₁₂ + a₂₂⋅b₂₂⎥\n",
       "⎢                                    ⎥\n",
       "⎣a₃₁⋅b₁₁ + a₃₂⋅b₂₁  a₃₁⋅b₁₂ + a₃₂⋅b₂₂⎦"
      ]
     },
     "execution_count": 30,
     "metadata": {},
     "output_type": "execute_result"
    }
   ],
   "source": [
    "A = Matrix([\n",
    "        [a_11, a_12],\n",
    "        [a_21, a_22], \n",
    "        [a_31, a_32]])\n",
    "B = Matrix([\n",
    "        [b_11, b_12],\n",
    "        [b_21, b_22]])\n",
    "\n",
    "A*B"
   ]
  },
  {
   "cell_type": "code",
   "execution_count": null,
   "metadata": {},
   "outputs": [
    {
     "data": {
      "image/png": "[encoded data removed]",
      "text/latex": [
       "$\\displaystyle \\left[\\begin{matrix}a_{11} & a_{21} & a_{31}\\\\a_{12} & a_{22} & a_{32}\\end{matrix}\\right]$"
      ],
      "text/plain": [
       "⎡a₁₁  a₂₁  a₃₁⎤\n",
       "⎢             ⎥\n",
       "⎣a₁₂  a₂₂  a₃₂⎦"
      ]
     },
     "execution_count": 31,
     "metadata": {},
     "output_type": "execute_result"
    }
   ],
   "source": [
    "A.T"
   ]
  },
  {
   "cell_type": "code",
   "execution_count": null,
   "metadata": {},
   "outputs": [
    {
     "name": "stdout",
     "output_type": "stream",
     "text": [
      "the shape of v is  (2, 1)\n"
     ]
    },
    {
     "data": {
      "image/png": "[encoded data removed]",
      "text/latex": [
       "$\\displaystyle \\left[\\begin{matrix}v_{1}\\\\v_{2}\\end{matrix}\\right]$"
      ],
      "text/plain": [
       "⎡v₁⎤\n",
       "⎢  ⎥\n",
       "⎣v₂⎦"
      ]
     },
     "execution_count": 32,
     "metadata": {},
     "output_type": "execute_result"
    }
   ],
   "source": [
    "print('the shape of v is', v.shape)\n",
    "v"
   ]
  },
  {
   "cell_type": "code",
   "execution_count": null,
   "metadata": {},
   "outputs": [
    {
     "name": "stdout",
     "output_type": "stream",
     "text": [
      "the shape of v.T is  (1, 2)\n"
     ]
    },
    {
     "data": {
      "image/png": "[encoded data removed]",
      "text/latex": [
       "$\\displaystyle \\left[\\begin{matrix}v_{1} & v_{2}\\end{matrix}\\right]$"
      ],
      "text/plain": [
       "[v₁  v₂]"
      ]
     },
     "execution_count": 33,
     "metadata": {},
     "output_type": "execute_result"
    }
   ],
   "source": [
    "print('the shape of v.T is', v.T.shape)\n",
    "v.T"
   ]
  },
  {
   "cell_type": "code",
   "execution_count": null,
   "metadata": {},
   "outputs": [
    {
     "data": {
      "image/png": "[encoded data removed]",
      "text/latex": [
       "$\\displaystyle \\left[\\begin{matrix}u_{1} v_{1} + u_{2} v_{2} + u_{3} v_{3}\\end{matrix}\\right]$"
      ],
      "text/plain": [
       "[u₁⋅v₁ + u₂⋅v₂ + u₃⋅v₃]"
      ]
     },
     "execution_count": 34,
     "metadata": {},
     "output_type": "execute_result"
    }
   ],
   "source": [
    "u = Matrix([u_1,u_2,u_3])\n",
    "v = Matrix([v_1,v_2,v_3])\n",
    "\n",
    "u.T*v"
   ]
  },
  {
   "cell_type": "code",
   "execution_count": null,
   "metadata": {},
   "outputs": [
    {
     "data": {
      "image/png": "[encoded data removed]",
      "text/latex": [
       "$\\displaystyle \\left[\\begin{matrix}u_{1} v_{1} & u_{1} v_{2} & u_{1} v_{3}\\\\u_{2} v_{1} & u_{2} v_{2} & u_{2} v_{3}\\\\u_{3} v_{1} & u_{3} v_{2} & u_{3} v_{3}\\end{matrix}\\right]$"
      ],
      "text/plain": [
       "⎡u₁⋅v₁  u₁⋅v₂  u₁⋅v₃⎤\n",
       "⎢                   ⎥\n",
       "⎢u₂⋅v₁  u₂⋅v₂  u₂⋅v₃⎥\n",
       "⎢                   ⎥\n",
       "⎣u₃⋅v₁  u₃⋅v₂  u₃⋅v₃⎦"
      ]
     },
     "execution_count": 35,
     "metadata": {},
     "output_type": "execute_result"
    }
   ],
   "source": [
    "u * v.T"
   ]
  },
  {
   "cell_type": "code",
   "execution_count": null,
   "metadata": {},
   "outputs": [
    {
     "data": {
      "image/png": "[encoded data removed]",
      "text/latex": [
       "$\\displaystyle \\left[\\begin{matrix}3 & 3\\\\2 & \\frac{3}{2}\\end{matrix}\\right]$"
      ],
      "text/plain": [
       "⎡3   3 ⎤\n",
       "⎢      ⎥\n",
       "⎣2  3/2⎦"
      ]
     },
     "execution_count": 36,
     "metadata": {},
     "output_type": "execute_result"
    }
   ],
   "source": [
    "A = Matrix([\n",
    "        [3,       3],\n",
    "        [2,  S(3)/2]\n",
    "])\n",
    "A"
   ]
  },
  {
   "cell_type": "code",
   "execution_count": null,
   "metadata": {},
   "outputs": [
    {
     "data": {
      "image/png": "[encoded data removed]",
      "text/latex": [
       "$\\displaystyle \\left[\\begin{matrix}-1 & 2\\\\\\frac{4}{3} & -2\\end{matrix}\\right]$"
      ],
      "text/plain": [
       "⎡-1   2 ⎤\n",
       "⎢       ⎥\n",
       "⎣4/3  -2⎦"
      ]
     },
     "execution_count": 37,
     "metadata": {},
     "output_type": "execute_result"
    }
   ],
   "source": [
    "A.inv()"
   ]
  },
  {
   "cell_type": "code",
   "execution_count": null,
   "metadata": {},
   "outputs": [
    {
     "data": {
      "image/png": "[encoded data removed]",
      "text/latex": [
       "$\\displaystyle \\left[\\begin{matrix}1 & 0\\\\0 & 1\\end{matrix}\\right]$"
      ],
      "text/plain": [
       "⎡1  0⎤\n",
       "⎢    ⎥\n",
       "⎣0  1⎦"
      ]
     },
     "execution_count": 38,
     "metadata": {},
     "output_type": "execute_result"
    }
   ],
   "source": [
    "A * A.inv()"
   ]
  },
  {
   "cell_type": "code",
   "execution_count": null,
   "metadata": {},
   "outputs": [
    {
     "data": {
      "image/png": "[encoded data removed]",
      "text/latex": [
       "$\\displaystyle \\left[\\begin{matrix}1 & 0\\\\0 & 1\\end{matrix}\\right]$"
      ],
      "text/plain": [
       "⎡1  0⎤\n",
       "⎢    ⎥\n",
       "⎣0  1⎦"
      ]
     },
     "execution_count": 39,
     "metadata": {},
     "output_type": "execute_result"
    }
   ],
   "source": [
    "A.inv() * A"
   ]
  },
  {
   "cell_type": "code",
   "execution_count": null,
   "metadata": {},
   "outputs": [
    {
     "data": {
      "image/png": "[encoded data removed]",
      "text/latex": [
       "$\\displaystyle \\left[\\begin{matrix}b_{11} & b_{12}\\\\b_{21} & b_{22}\\end{matrix}\\right]$"
      ],
      "text/plain": [
       "⎡b₁₁  b₁₂⎤\n",
       "⎢        ⎥\n",
       "⎣b₂₁  b₂₂⎦"
      ]
     },
     "execution_count": 40,
     "metadata": {},
     "output_type": "execute_result"
    }
   ],
   "source": [
    "B = Matrix([\n",
    "        [b_11, b_12],\n",
    "        [b_21, b_22]])\n",
    "B"
   ]
  },
  {
   "cell_type": "code",
   "execution_count": null,
   "metadata": {},
   "outputs": [
    {
     "data": {
      "image/png": "[encoded data removed]",
      "text/latex": [
       "$\\displaystyle b_{11} + b_{22}$"
      ],
      "text/plain": [
       "b₁₁ + b₂₂"
      ]
     },
     "execution_count": 41,
     "metadata": {},
     "output_type": "execute_result"
    }
   ],
   "source": [
    "B.trace()"
   ]
  },
  {
   "cell_type": "code",
   "execution_count": null,
   "metadata": {},
   "outputs": [
    {
     "data": {
      "image/png": "[encoded data removed]",
      "text/latex": [
       "$\\displaystyle b_{11} b_{22} - b_{12} b_{21}$"
      ],
      "text/plain": [
       "b₁₁⋅b₂₂ - b₁₂⋅b₂₁"
      ]
     },
     "execution_count": 42,
     "metadata": {},
     "output_type": "execute_result"
    }
   ],
   "source": [
    "B.det()"
   ]
  },
  {
   "cell_type": "code",
   "execution_count": null,
   "metadata": {},
   "outputs": [],
   "source": []
  }
 ],
 "metadata": {
  "kernelspec": {
   "display_name": "Python 3",
   "language": "python",
   "name": "python3"
  },
  "language_info": {
   "codemirror_mode": {
    "name": "ipython",
    "version": 3
   },
   "file_extension": ".py",
   "mimetype": "text/x-python",
   "name": "python",
   "nbconvert_exporter": "python",
   "pygments_lexer": "ipython3",
   "version": "3.11.8"
  },
  "widgets": {
   "state": {},
   "version": "1.1.1"
  }
 },
 "nbformat": 4,
 "nbformat_minor": 1
}
