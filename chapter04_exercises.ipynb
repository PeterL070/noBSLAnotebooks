{
 "cells": [
  {
   "cell_type": "markdown",
   "metadata": {},
   "source": [
    "# 4/ Exercise solutions"
   ]
  },
  {
   "cell_type": "code",
   "execution_count": 1,
   "metadata": {},
   "outputs": [],
   "source": [
    "# helper code needed for running in colab\n",
    "if 'google.colab' in str(get_ipython()):\n",
    "    print('Downloading plot_helpers.py to util/ (only neded for colab')\n",
    "    !mkdir util; wget https://raw.githubusercontent.com/minireference/noBSLAnotebooks/master/util/plot_helpers.py -P util"
   ]
  },
  {
   "cell_type": "code",
   "execution_count": 2,
   "metadata": {},
   "outputs": [],
   "source": [
    "from sympy import *\n",
    "init_printing()\n",
    "\n",
    "%matplotlib inline\n",
    "import matplotlib.pyplot as mpl\n",
    "from util.plot_helpers import plot_augmat, plot_plane, plot_point, plot_line, plot_vec, plot_vecs\n",
    "\n",
    "Vector = Matrix  # define alias Vector so I don't have to explain this during video\n",
    "Point = Vector   # define alias Point for Vector since they're the same thing"
   ]
  },
  {
   "cell_type": "markdown",
   "metadata": {},
   "source": [
    "### E4.5\n",
    "\n"
   ]
  },
  {
   "cell_type": "code",
   "execution_count": 3,
   "metadata": {},
   "outputs": [],
   "source": [
    "# Given point r\n",
    "r = Point([1,3,0])\n",
    "\n",
    "# line L\n",
    "pL = Point([0,0,2])\n",
    "vL = Vector([1,-1,0])  # note this changed in v2.2 of LA book\n",
    "\n",
    "# plane P\n",
    "nP = Vector([1,1,1])\n",
    "dP = 1\n",
    "\n",
    "# compute the following closest distances:"
   ]
  },
  {
   "cell_type": "code",
   "execution_count": 4,
   "metadata": {},
   "outputs": [
    {
     "data": {
      "image/png": "[encoded data removed]",
      "text/latex": [
       "$\\displaystyle \\sqrt{10}$"
      ],
      "text/plain": [
       "√10"
      ]
     },
     "execution_count": 4,
     "metadata": {},
     "output_type": "execute_result"
    }
   ],
   "source": [
    "# a)  d(r,O) = ||r||\n",
    "r.norm()"
   ]
  },
  {
   "cell_type": "code",
   "execution_count": 5,
   "metadata": {},
   "outputs": [
    {
     "data": {
      "image/png": "[encoded data removed]",
      "text/latex": [
       "$\\displaystyle 2$"
      ],
      "text/plain": [
       "2"
      ]
     },
     "execution_count": 5,
     "metadata": {},
     "output_type": "execute_result"
    }
   ],
   "source": [
    "# b)   d(L,O) = || pL - proj_{L}(pL) ||\n",
    "(pL - (pL.dot(vL)/vL.norm()**2)*vL).norm()"
   ]
  },
  {
   "cell_type": "code",
   "execution_count": 6,
   "metadata": {},
   "outputs": [
    {
     "data": {
      "image/png": "[encoded data removed]",
      "text/latex": [
       "$\\displaystyle \\frac{\\sqrt{3}}{3}$"
      ],
      "text/plain": [
       "√3\n",
       "──\n",
       "3 "
      ]
     },
     "execution_count": 6,
     "metadata": {},
     "output_type": "execute_result"
    }
   ],
   "source": [
    "# c)   d(P,O) = || proj_{nP}(pP) ||\n",
    "pP = Matrix([1,0,0])\n",
    "( (nP.dot(pP)/nP.norm()**2)*nP).norm()"
   ]
  },
  {
   "cell_type": "code",
   "execution_count": 7,
   "metadata": {},
   "outputs": [
    {
     "data": {
      "image/png": "[encoded data removed]",
      "text/latex": [
       "$\\displaystyle 2 \\sqrt{3}$"
      ],
      "text/plain": [
       "2⋅√3"
      ]
     },
     "execution_count": 7,
     "metadata": {},
     "output_type": "execute_result"
    }
   ],
   "source": [
    "# d)   u=pL-r   d(r,L)=||u - proj_{L}(u)||\n",
    "u = pL - r\n",
    "(u - (u.dot(vL)/vL.norm()**2)*vL).norm()"
   ]
  },
  {
   "cell_type": "code",
   "execution_count": 8,
   "metadata": {},
   "outputs": [
    {
     "data": {
      "image/png": "[encoded data removed]",
      "text/latex": [
       "$\\displaystyle \\sqrt{3}$"
      ],
      "text/plain": [
       "√3"
      ]
     },
     "execution_count": 8,
     "metadata": {},
     "output_type": "execute_result"
    }
   ],
   "source": [
    "# e)     v=pP-r   d(r,P)=||proj_{nP}(v)||\n",
    "pP = Matrix([1,0,0])\n",
    "v = pP - r\n",
    "( (nP.dot(v)/nP.norm()**2)*nP).norm()"
   ]
  },
  {
   "cell_type": "code",
   "execution_count": 9,
   "metadata": {},
   "outputs": [
    {
     "name": "stdout",
     "output_type": "stream",
     "text": [
      "vL·nP = 0 so line is parallel to plane. OK to proceed...\n"
     ]
    },
    {
     "data": {
      "image/png": "[encoded data removed]",
      "text/latex": [
       "$\\displaystyle \\frac{\\sqrt{3}}{3}$"
      ],
      "text/plain": [
       "√3\n",
       "──\n",
       "3 "
      ]
     },
     "execution_count": 9,
     "metadata": {},
     "output_type": "execute_result"
    }
   ],
   "source": [
    "#f)  d(L,P)\n",
    "# STEP1: check relative orientation of L and P\n",
    "print('vL·nP =', vL.dot(nP), 'so line is parallel to plane. OK to proceed...')\n",
    "# STEP2: find vector w=pP-pL arbitrary points on plane nad line,\n",
    "pP = Matrix([1,0,0])\n",
    "w = pP - pL\n",
    "# then compute component of w in perp. to the plane    d(L,P)=||proj_{nP}(w)||\n",
    "( (nP.dot(w)/nP.norm()**2)*nP).norm()"
   ]
  },
  {
   "cell_type": "code",
   "execution_count": 10,
   "metadata": {},
   "outputs": [],
   "source": [
    "# # debug viz to make sure L parallel to P\n",
    "# plot_vec(5*vL, at=pL, color='b')\n",
    "# plot_vec(-5*vL, at=pL, color='b')\n",
    "# plot_vec(w, color='r', at=pL)\n",
    "# plot_plane(nP,dP)"
   ]
  },
  {
   "cell_type": "code",
   "execution_count": null,
   "metadata": {},
   "outputs": [],
   "source": []
  },
  {
   "cell_type": "code",
   "execution_count": null,
   "metadata": {},
   "outputs": [],
   "source": []
  },
  {
   "cell_type": "markdown",
   "metadata": {},
   "source": [
    "### E4.7\n"
   ]
  },
  {
   "cell_type": "code",
   "execution_count": 11,
   "metadata": {},
   "outputs": [],
   "source": [
    "# Setup the variables of the exercise:\n",
    "p = Point([10,10,10])\n",
    "pL1 = Point([3,0,5])   # an arbitrary point on L1\n",
    "pL2 = Point([6,0,0])   # an arbitrary point on L2\n",
    "d = Vector([1,-2,0])   # direction vector of L1 and L2\n",
    "\n"
   ]
  },
  {
   "cell_type": "markdown",
   "metadata": {},
   "source": [
    "a) Projection of $p$ onto $\\ell_1$"
   ]
  },
  {
   "cell_type": "code",
   "execution_count": 12,
   "metadata": {},
   "outputs": [
    {
     "data": {
      "image/png": "[encoded data removed]",
      "text/latex": [
       "$\\displaystyle \\left[\\begin{matrix}\\frac{2}{5}\\\\\\frac{26}{5}\\\\5\\end{matrix}\\right]$"
      ],
      "text/plain": [
       "⎡2/5 ⎤\n",
       "⎢    ⎥\n",
       "⎢26/5⎥\n",
       "⎢    ⎥\n",
       "⎣ 5  ⎦"
      ]
     },
     "execution_count": 12,
     "metadata": {},
     "output_type": "execute_result"
    }
   ],
   "source": [
    "# define a vector from a point on L1 to p:\n",
    "v1 = p - pL1\n",
    "\n",
    "# proj_{L1}(p) = proj_{L1}(v1) + pL1 \n",
    "p_proj_L1 = (d.dot(v1)/d.norm()**2)*d + pL1\n",
    "p_proj_L1"
   ]
  },
  {
   "cell_type": "markdown",
   "metadata": {},
   "source": [
    "^ This is the point on the line $\\ell_1$ that is closes to the point $p$"
   ]
  },
  {
   "cell_type": "markdown",
   "metadata": {},
   "source": [
    "b) (shortest) distance form $p$ to $\\ell_1$"
   ]
  },
  {
   "cell_type": "code",
   "execution_count": 13,
   "metadata": {},
   "outputs": [
    {
     "data": {
      "image/png": "[encoded data removed]",
      "text/latex": [
       "$\\displaystyle \\frac{\\sqrt{3505}}{5}$"
      ],
      "text/plain": [
       "√3505\n",
       "─────\n",
       "  5  "
      ]
     },
     "execution_count": 13,
     "metadata": {},
     "output_type": "execute_result"
    }
   ],
   "source": [
    "# d(p, L1) = subtract from v1 the part that is perp to L1 and compute the length:\n",
    "(v1 - (d.dot(v1)/d.norm()**2)*d).norm()"
   ]
  },
  {
   "cell_type": "code",
   "execution_count": 14,
   "metadata": {},
   "outputs": [
    {
     "data": {
      "image/png": "[encoded data removed]",
      "text/latex": [
       "$\\displaystyle \\frac{\\sqrt{3505}}{5}$"
      ],
      "text/plain": [
       "√3505\n",
       "─────\n",
       "  5  "
      ]
     },
     "execution_count": 14,
     "metadata": {},
     "output_type": "execute_result"
    }
   ],
   "source": [
    "# ... or compute the distance directly:\n",
    "(p_proj_L1-p).norm()"
   ]
  },
  {
   "cell_type": "code",
   "execution_count": 15,
   "metadata": {},
   "outputs": [
    {
     "data": {
      "image/png": "[encoded data removed]",
      "text/latex": [
       "$\\displaystyle 11.8406080924925$"
      ],
      "text/plain": [
       "11.8406080924925"
      ]
     },
     "execution_count": 15,
     "metadata": {},
     "output_type": "execute_result"
    }
   ],
   "source": [
    "(p_proj_L1-p).norm().n()  # numeric approx."
   ]
  },
  {
   "cell_type": "code",
   "execution_count": 16,
   "metadata": {},
   "outputs": [
    {
     "data": {
      "image/png": "[encoded data removed]",
      "text/plain": [
       "<Figure size 432x288 with 1 Axes>"
      ]
     },
     "metadata": {
      "needs_background": "light"
     },
     "output_type": "display_data"
    }
   ],
   "source": [
    "plot_line(d, pL1)  # Line L1\n",
    "\n",
    "# vector v1 and it's decomposition into parallel-to-L1 and perp-to-L1 components\n",
    "plot_vec(v1, at=pL1)\n",
    "plot_vec(p_proj_L1-pL1, at=pL1,     color='b')\n",
    "plot_vec(p-p_proj_L1, at=p_proj_L1, color='r')\n",
    "\n",
    "ax = mpl.gca()\n",
    "mpl.xlim([0,10])\n",
    "mpl.ylim([0,10])\n",
    "ax.set_zlim([0,10])\n",
    "ax.grid(True,which='both')"
   ]
  },
  {
   "cell_type": "markdown",
   "metadata": {},
   "source": [
    "Answer to a) is the tip of the blue vector; answer to b) is the length of the red vector."
   ]
  },
  {
   "cell_type": "code",
   "execution_count": null,
   "metadata": {},
   "outputs": [],
   "source": []
  },
  {
   "cell_type": "markdown",
   "metadata": {},
   "source": [
    "Use a similar approach for c) and d) "
   ]
  },
  {
   "cell_type": "code",
   "execution_count": 17,
   "metadata": {},
   "outputs": [],
   "source": [
    "# define a vector from a point on L2 to p:\n",
    "v2 = p - pL2"
   ]
  },
  {
   "cell_type": "code",
   "execution_count": 18,
   "metadata": {},
   "outputs": [
    {
     "data": {
      "image/png": "[encoded data removed]",
      "text/latex": [
       "$\\displaystyle \\left[\\begin{matrix}\\frac{14}{5}\\\\\\frac{32}{5}\\\\0\\end{matrix}\\right]$"
      ],
      "text/plain": [
       "⎡14/5⎤\n",
       "⎢    ⎥\n",
       "⎢32/5⎥\n",
       "⎢    ⎥\n",
       "⎣ 0  ⎦"
      ]
     },
     "execution_count": 18,
     "metadata": {},
     "output_type": "execute_result"
    }
   ],
   "source": [
    "# p_proj_L2 = \n",
    "(d.dot(v2)/d.norm()**2)*d + pL2"
   ]
  },
  {
   "cell_type": "code",
   "execution_count": 19,
   "metadata": {},
   "outputs": [
    {
     "data": {
      "image/png": "[encoded data removed]",
      "text/latex": [
       "$\\displaystyle \\frac{2 \\sqrt{1030}}{5}$"
      ],
      "text/plain": [
       "2⋅√1030\n",
       "───────\n",
       "   5   "
      ]
     },
     "execution_count": 19,
     "metadata": {},
     "output_type": "execute_result"
    }
   ],
   "source": [
    "# d(p, L2) = \n",
    "(v2 - (d.dot(v2)/d.norm()**2)*d).norm()"
   ]
  },
  {
   "cell_type": "code",
   "execution_count": 20,
   "metadata": {},
   "outputs": [
    {
     "data": {
      "image/png": "[encoded data removed]",
      "text/latex": [
       "$\\displaystyle 12.837445228705$"
      ],
      "text/plain": [
       "12.8374452287050"
      ]
     },
     "execution_count": 20,
     "metadata": {},
     "output_type": "execute_result"
    }
   ],
   "source": [
    "(v2 - (d.dot(v2)/d.norm()**2)*d).norm().n()"
   ]
  },
  {
   "cell_type": "code",
   "execution_count": null,
   "metadata": {},
   "outputs": [],
   "source": []
  },
  {
   "cell_type": "code",
   "execution_count": null,
   "metadata": {},
   "outputs": [],
   "source": []
  },
  {
   "cell_type": "markdown",
   "metadata": {},
   "source": [
    "e) distance $\\ell_1$ to $\\ell_2$"
   ]
  },
  {
   "cell_type": "code",
   "execution_count": 21,
   "metadata": {},
   "outputs": [
    {
     "data": {
      "image/png": "[encoded data removed]",
      "text/latex": [
       "$\\displaystyle \\left[\\begin{matrix}3\\\\0\\\\-5\\end{matrix}\\right]$"
      ],
      "text/plain": [
       "⎡3 ⎤\n",
       "⎢  ⎥\n",
       "⎢0 ⎥\n",
       "⎢  ⎥\n",
       "⎣-5⎦"
      ]
     },
     "execution_count": 21,
     "metadata": {},
     "output_type": "execute_result"
    }
   ],
   "source": [
    "# first define a vector from a point on L1 to a point on L2:\n",
    "v3 = pL2 - pL1\n",
    "v3"
   ]
  },
  {
   "cell_type": "code",
   "execution_count": 22,
   "metadata": {},
   "outputs": [
    {
     "data": {
      "image/png": "[encoded data removed]",
      "text/latex": [
       "$\\displaystyle \\frac{\\sqrt{805}}{5}$"
      ],
      "text/plain": [
       "√805\n",
       "────\n",
       " 5  "
      ]
     },
     "execution_count": 22,
     "metadata": {},
     "output_type": "execute_result"
    }
   ],
   "source": [
    "# d(L1, L2) = \n",
    "d_L1L2 = (v3 - (d.dot(v3)/d.norm()**2)*d).norm()\n",
    "d_L1L2"
   ]
  },
  {
   "cell_type": "code",
   "execution_count": 23,
   "metadata": {},
   "outputs": [
    {
     "data": {
      "image/png": "[encoded data removed]",
      "text/latex": [
       "$\\displaystyle 5.67450438364444$"
      ],
      "text/plain": [
       "5.67450438364444"
      ]
     },
     "execution_count": 23,
     "metadata": {},
     "output_type": "execute_result"
    }
   ],
   "source": [
    "d_L1L2.n()"
   ]
  },
  {
   "cell_type": "code",
   "execution_count": null,
   "metadata": {},
   "outputs": [],
   "source": []
  },
  {
   "cell_type": "code",
   "execution_count": null,
   "metadata": {},
   "outputs": [],
   "source": []
  },
  {
   "cell_type": "code",
   "execution_count": null,
   "metadata": {},
   "outputs": [],
   "source": []
  }
 ],
 "metadata": {
  "kernelspec": {
   "display_name": "Python 3",
   "language": "python",
   "name": "python3"
  },
  "language_info": {
   "codemirror_mode": {
    "name": "ipython",
    "version": 3
   },
   "file_extension": ".py",
   "mimetype": "text/x-python",
   "name": "python",
   "nbconvert_exporter": "python",
   "pygments_lexer": "ipython3",
   "version": "3.6.9"
  }
 },
 "nbformat": 4,
 "nbformat_minor": 2
}
