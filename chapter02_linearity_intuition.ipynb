{
 "cells": [
  {
   "cell_type": "markdown",
   "metadata": {},
   "source": [
    "# 2/ Linearity"
   ]
  },
  {
   "cell_type": "code",
   "execution_count": 1,
   "metadata": {},
   "outputs": [],
   "source": [
    "# setup SymPy\n",
    "from sympy import *\n",
    "init_printing()\n",
    "x, y, z, t = symbols('x y z t')\n",
    "alpha, beta = symbols('alpha beta')"
   ]
  },
  {
   "cell_type": "markdown",
   "metadata": {},
   "source": [
    "## Simplest linear function"
   ]
  },
  {
   "cell_type": "code",
   "execution_count": 2,
   "metadata": {},
   "outputs": [],
   "source": [
    "b, m = symbols('b m')\n",
    "\n",
    "def f(x):\n",
    "    return m*x"
   ]
  },
  {
   "cell_type": "code",
   "execution_count": 3,
   "metadata": {},
   "outputs": [
    {
     "data": {
      "image/png": "[encoded data removed]",
      "text/latex": [
       "$\\displaystyle m$"
      ],
      "text/plain": [
       "m"
      ]
     },
     "execution_count": 3,
     "metadata": {},
     "output_type": "execute_result"
    }
   ],
   "source": [
    "f(1)"
   ]
  },
  {
   "cell_type": "code",
   "execution_count": 4,
   "metadata": {},
   "outputs": [
    {
     "data": {
      "image/png": "[encoded data removed]",
      "text/latex": [
       "$\\displaystyle 2 m$"
      ],
      "text/plain": [
       "2⋅m"
      ]
     },
     "execution_count": 4,
     "metadata": {},
     "output_type": "execute_result"
    }
   ],
   "source": [
    "f(2)"
   ]
  },
  {
   "cell_type": "code",
   "execution_count": 5,
   "metadata": {},
   "outputs": [
    {
     "data": {
      "image/png": "[encoded data removed]",
      "text/latex": [
       "$\\displaystyle 3 m$"
      ],
      "text/plain": [
       "3⋅m"
      ]
     },
     "execution_count": 5,
     "metadata": {},
     "output_type": "execute_result"
    }
   ],
   "source": [
    "f(1+2)"
   ]
  },
  {
   "cell_type": "code",
   "execution_count": 6,
   "metadata": {},
   "outputs": [
    {
     "data": {
      "image/png": "[encoded data removed]",
      "text/latex": [
       "$\\displaystyle 3 m$"
      ],
      "text/plain": [
       "3⋅m"
      ]
     },
     "execution_count": 6,
     "metadata": {},
     "output_type": "execute_result"
    }
   ],
   "source": [
    "f(1) + f(2)"
   ]
  },
  {
   "cell_type": "code",
   "execution_count": 7,
   "metadata": {},
   "outputs": [
    {
     "data": {
      "text/plain": [
       "True"
      ]
     },
     "execution_count": 7,
     "metadata": {},
     "output_type": "execute_result"
    }
   ],
   "source": [
    "expand(f(x+y)) ==  f(x) + f(y)"
   ]
  },
  {
   "cell_type": "markdown",
   "metadata": {},
   "source": [
    "## What about vector inputs?"
   ]
  },
  {
   "cell_type": "code",
   "execution_count": 8,
   "metadata": {},
   "outputs": [],
   "source": [
    "m_1, m_2 = symbols('m_1 m_2')\n",
    "\n",
    "def T(vec):\n",
    "    \"\"\"A function that takes a 2D vector and returns a number.\"\"\"\n",
    "    return m_1*vec[0] + m_2*vec[1]"
   ]
  },
  {
   "cell_type": "code",
   "execution_count": 9,
   "metadata": {},
   "outputs": [],
   "source": [
    "u_1, u_2 = symbols('u_1 u_2')\n",
    "u = Matrix([u_1,u_2])\n",
    "v_1, v_2 = symbols('v_1 v_2')\n",
    "v = Matrix([v_1,v_2])"
   ]
  },
  {
   "cell_type": "code",
   "execution_count": 10,
   "metadata": {},
   "outputs": [
    {
     "data": {
      "image/png": "[encoded data removed]",
      "text/latex": [
       "$\\displaystyle m_{1} u_{1} + m_{2} u_{2}$"
      ],
      "text/plain": [
       "m₁⋅u₁ + m₂⋅u₂"
      ]
     },
     "execution_count": 10,
     "metadata": {},
     "output_type": "execute_result"
    }
   ],
   "source": [
    "T(u)"
   ]
  },
  {
   "cell_type": "code",
   "execution_count": 11,
   "metadata": {},
   "outputs": [
    {
     "data": {
      "image/png": "[encoded data removed]",
      "text/latex": [
       "$\\displaystyle m_{1} v_{1} + m_{2} v_{2}$"
      ],
      "text/plain": [
       "m₁⋅v₁ + m₂⋅v₂"
      ]
     },
     "execution_count": 11,
     "metadata": {},
     "output_type": "execute_result"
    }
   ],
   "source": [
    "T(v)"
   ]
  },
  {
   "cell_type": "code",
   "execution_count": 12,
   "metadata": {},
   "outputs": [
    {
     "data": {
      "image/png": "[encoded data removed]",
      "text/latex": [
       "$\\displaystyle m_{1} u_{1} + m_{1} v_{1} + m_{2} u_{2} + m_{2} v_{2}$"
      ],
      "text/plain": [
       "m₁⋅u₁ + m₁⋅v₁ + m₂⋅u₂ + m₂⋅v₂"
      ]
     },
     "execution_count": 12,
     "metadata": {},
     "output_type": "execute_result"
    }
   ],
   "source": [
    "T(u) + T(v)"
   ]
  },
  {
   "cell_type": "code",
   "execution_count": 13,
   "metadata": {},
   "outputs": [
    {
     "data": {
      "image/png": "[encoded data removed]",
      "text/latex": [
       "$\\displaystyle m_{1} u_{1} + m_{1} v_{1} + m_{2} u_{2} + m_{2} v_{2}$"
      ],
      "text/plain": [
       "m₁⋅u₁ + m₁⋅v₁ + m₂⋅u₂ + m₂⋅v₂"
      ]
     },
     "execution_count": 13,
     "metadata": {},
     "output_type": "execute_result"
    }
   ],
   "source": [
    "expand( T(u+v) )"
   ]
  },
  {
   "cell_type": "code",
   "execution_count": 14,
   "metadata": {},
   "outputs": [
    {
     "data": {
      "image/png": "[encoded data removed]",
      "text/latex": [
       "$\\displaystyle 0$"
      ],
      "text/plain": [
       "0"
      ]
     },
     "execution_count": 14,
     "metadata": {},
     "output_type": "execute_result"
    }
   ],
   "source": [
    "simplify( T(alpha*u + beta*v) - alpha*T(u) - beta*T(v) )"
   ]
  },
  {
   "cell_type": "markdown",
   "metadata": {},
   "source": [
    "# Linear transformations"
   ]
  },
  {
   "cell_type": "markdown",
   "metadata": {},
   "source": [
    "A linear transformation is function that takes vectors as inputs, and produces vectors as outputs:\n",
    "\n",
    "$$\n",
    "   T: \\mathbb{R}^n \\to \\mathbb{R}^m.\n",
    "$$\n",
    "\n",
    "See [page 136](https://minireference.com/static/excerpts/noBSLA_v2_preview.pdf#page=43) in v2.2 of the book."
   ]
  },
  {
   "cell_type": "code",
   "execution_count": 15,
   "metadata": {},
   "outputs": [],
   "source": [
    "m_11, m_12, m_21, m_22 = symbols('m_11 m_12 m_21 m_22')\n",
    "\n",
    "def T(vec):\n",
    "    \"\"\"A linear transformations R^2 --> R^2.\"\"\"\n",
    "    out_1 = m_11*vec[0] + m_12*vec[1]\n",
    "    out_2 = m_21*vec[0] + m_22*vec[1]\n",
    "    return Matrix([out_1, out_2])"
   ]
  },
  {
   "cell_type": "code",
   "execution_count": 16,
   "metadata": {},
   "outputs": [
    {
     "data": {
      "image/png": "[encoded data removed]",
      "text/latex": [
       "$\\displaystyle \\left[\\begin{matrix}m_{11} u_{1} + m_{12} u_{2}\\\\m_{21} u_{1} + m_{22} u_{2}\\end{matrix}\\right]$"
      ],
      "text/plain": [
       "⎡m₁₁⋅u₁ + m₁₂⋅u₂⎤\n",
       "⎢               ⎥\n",
       "⎣m₂₁⋅u₁ + m₂₂⋅u₂⎦"
      ]
     },
     "execution_count": 16,
     "metadata": {},
     "output_type": "execute_result"
    }
   ],
   "source": [
    "T(u)"
   ]
  },
  {
   "cell_type": "code",
   "execution_count": 17,
   "metadata": {},
   "outputs": [
    {
     "data": {
      "image/png": "[encoded data removed]",
      "text/latex": [
       "$\\displaystyle \\left[\\begin{matrix}m_{11} v_{1} + m_{12} v_{2}\\\\m_{21} v_{1} + m_{22} v_{2}\\end{matrix}\\right]$"
      ],
      "text/plain": [
       "⎡m₁₁⋅v₁ + m₁₂⋅v₂⎤\n",
       "⎢               ⎥\n",
       "⎣m₂₁⋅v₁ + m₂₂⋅v₂⎦"
      ]
     },
     "execution_count": 17,
     "metadata": {},
     "output_type": "execute_result"
    }
   ],
   "source": [
    "T(v)"
   ]
  },
  {
   "cell_type": "code",
   "execution_count": 18,
   "metadata": {},
   "outputs": [
    {
     "data": {
      "image/png": "[encoded data removed]",
      "text/latex": [
       "$\\displaystyle \\left[\\begin{matrix}m_{11} \\left(u_{1} + v_{1}\\right) + m_{12} \\left(u_{2} + v_{2}\\right)\\\\m_{21} \\left(u_{1} + v_{1}\\right) + m_{22} \\left(u_{2} + v_{2}\\right)\\end{matrix}\\right]$"
      ],
      "text/plain": [
       "⎡m₁₁⋅(u₁ + v₁) + m₁₂⋅(u₂ + v₂)⎤\n",
       "⎢                             ⎥\n",
       "⎣m₂₁⋅(u₁ + v₁) + m₂₂⋅(u₂ + v₂)⎦"
      ]
     },
     "execution_count": 18,
     "metadata": {},
     "output_type": "execute_result"
    }
   ],
   "source": [
    "T(u+v)"
   ]
  },
  {
   "cell_type": "markdown",
   "metadata": {},
   "source": [
    "## Linear transformations as matrix-vector products "
   ]
  },
  {
   "cell_type": "markdown",
   "metadata": {},
   "source": [
    "See [page 133](https://minireference.com/static/excerpts/noBSLA_v2_preview.pdf#page=40) in v2.2 of the book."
   ]
  },
  {
   "cell_type": "code",
   "execution_count": 19,
   "metadata": {},
   "outputs": [],
   "source": [
    "def T_impl(vec):\n",
    "    \"\"\"A linear transformations implemented as matrix-vector product.\"\"\"\n",
    "    M_T = Matrix([[m_11, m_12], \n",
    "                  [m_21, m_22]])\n",
    "    return M_T*vec"
   ]
  },
  {
   "cell_type": "code",
   "execution_count": 20,
   "metadata": {},
   "outputs": [
    {
     "data": {
      "image/png": "[encoded data removed]",
      "text/latex": [
       "$\\displaystyle \\left[\\begin{matrix}m_{11} u_{1} + m_{12} u_{2}\\\\m_{21} u_{1} + m_{22} u_{2}\\end{matrix}\\right]$"
      ],
      "text/plain": [
       "⎡m₁₁⋅u₁ + m₁₂⋅u₂⎤\n",
       "⎢               ⎥\n",
       "⎣m₂₁⋅u₁ + m₂₂⋅u₂⎦"
      ]
     },
     "execution_count": 20,
     "metadata": {},
     "output_type": "execute_result"
    }
   ],
   "source": [
    "T_impl(u)"
   ]
  },
  {
   "cell_type": "code",
   "execution_count": null,
   "metadata": {},
   "outputs": [],
   "source": []
  }
 ],
 "metadata": {
  "kernelspec": {
   "display_name": "Python 3",
   "language": "python",
   "name": "python3"
  },
  "language_info": {
   "codemirror_mode": {
    "name": "ipython",
    "version": 3
   },
   "file_extension": ".py",
   "mimetype": "text/x-python",
   "name": "python",
   "nbconvert_exporter": "python",
   "pygments_lexer": "ipython3",
   "version": "3.6.9"
  }
 },
 "nbformat": 4,
 "nbformat_minor": 1
}
