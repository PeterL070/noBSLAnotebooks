{
 "cells": [
  {
   "cell_type": "markdown",
   "metadata": {},
   "source": [
    "# 2/ Exercise solutions"
   ]
  },
  {
   "cell_type": "code",
   "execution_count": 3,
   "metadata": {},
   "outputs": [],
   "source": [
    "# setup SymPy\n",
    "from sympy import *\n",
    "x, y, z, t = symbols('x y z t')\n",
    "init_printing()"
   ]
  },
  {
   "cell_type": "code",
   "execution_count": null,
   "metadata": {},
   "outputs": [],
   "source": []
  },
  {
   "cell_type": "markdown",
   "metadata": {},
   "source": [
    "## Definitions"
   ]
  },
  {
   "cell_type": "markdown",
   "metadata": {},
   "source": [
    "### E2.1\n",
    "\n",
    "Find the inverse matrix $A^{-1}$ for the matrix $A=\\begin{bsmallmatrix}7 & 0 \\\\ 0 & 2\\end{bsmallmatrix}$. Verify that $A^{-1}(A\\vec{v})=\\vec{v}$ for any vector $\\vec{v} = \\begin{bsmallmatrix} v_1 \\\\ v_2\\end{bsmallmatrix}$. \n",
    "\n",
    "#### Answer\n",
    "$A^{-1} = \\begin{bsmallmatrix}\\frac{1}{7} & 0 \\\\ 0 & \\frac{1}{2}\\end{bsmallmatrix}$.\n",
    "\n",
    "#### Solution\n",
    "To find $A^{-1}$ we must consider the action of $A=\\begin{bsmallmatrix}7 & 0 \\\\ 0 & 2\\end{bsmallmatrix}$ on an arbitrary vector $\\vec{v}=\\begin{bsmallmatrix}v_1 \\\\ v_2\\end{bsmallmatrix}$, and perform the inverse action. Since $A$ multiplies the first component by $7$, $A^{-1}$ must divide the first component by $7$. Since $A$ multiplies the second component by $2$, $A^{-1}$ must divide the second component by $2$. Thus $A^{-1} = \\begin{bsmallmatrix}\\frac{1}{7} & 0 \\\\ 0 & \\frac{1}{2}\\end{bsmallmatrix}$. "
   ]
  },
  {
   "cell_type": "code",
   "execution_count": 1,
   "metadata": {},
   "outputs": [],
   "source": [
    "A = ..."
   ]
  },
  {
   "cell_type": "code",
   "execution_count": null,
   "metadata": {},
   "outputs": [],
   "source": []
  },
  {
   "cell_type": "markdown",
   "metadata": {},
   "source": [
    "### E2.2"
   ]
  },
  {
   "cell_type": "markdown",
   "metadata": {
    "collapsed": true,
    "jupyter": {
     "outputs_hidden": true
    }
   },
   "source": [
    "Given the matrices $A=\\begin{bsmallmatrix}1 & 3 \\\\ 4 & 5\\end{bsmallmatrix}$ and $B=\\begin{bsmallmatrix} -1 & 0 \\\\ 3 & 3 \\end{bsmallmatrix}$, and the vectors $\\vec{v}=\\begin{bsmallmatrix}1 \\\\  2\\end{bsmallmatrix}$ and $\\vec{w}=\\begin{bsmallmatrix}-3 \\\\ -4\\end{bsmallmatrix}$, compute the following expressions. \n",
    "\n",
    "\n",
    "- a) $A\\vec{v}$\n",
    "- b) $B\\vec{v}$\n",
    "- c) $A(B\\vec{v})$\n",
    "- d) $B(A\\vec{v})$\n",
    "- e) $A\\vec{w}$\n",
    "- f) $B\\vec{w}$\n"
   ]
  },
  {
   "cell_type": "code",
   "execution_count": 27,
   "metadata": {},
   "outputs": [],
   "source": [
    "# define the matrices A and B, and the vecs v and w\n",
    "A = Matrix([[1,3],    # 2x2 matrix A\n",
    "            [4,5]])\n",
    "B = Matrix([[-1,0],   # 2x2 matrix B\n",
    "            [ 3,3]])\n",
    "v = Matrix([1,2])     # 2x1 column vector v\n",
    "w = Matrix([-3,-4])   # 2x1 column vector w"
   ]
  },
  {
   "cell_type": "code",
   "execution_count": 28,
   "metadata": {},
   "outputs": [
    {
     "data": {
      "image/png": "[encoded data removed]",
      "text/latex": [
       "$\\displaystyle \\left[\\begin{matrix}7\\\\14\\end{matrix}\\right]$"
      ],
      "text/plain": [
       "⎡7 ⎤\n",
       "⎢  ⎥\n",
       "⎣14⎦"
      ]
     },
     "execution_count": 28,
     "metadata": {},
     "output_type": "execute_result"
    }
   ],
   "source": [
    "# a)\n",
    "A*v"
   ]
  },
  {
   "cell_type": "code",
   "execution_count": 29,
   "metadata": {},
   "outputs": [
    {
     "data": {
      "image/png": "[encoded data removed]",
      "text/latex": [
       "$\\displaystyle \\left[\\begin{matrix}-1\\\\9\\end{matrix}\\right]$"
      ],
      "text/plain": [
       "⎡-1⎤\n",
       "⎢  ⎥\n",
       "⎣9 ⎦"
      ]
     },
     "execution_count": 29,
     "metadata": {},
     "output_type": "execute_result"
    }
   ],
   "source": [
    "# b)\n",
    "B*v"
   ]
  },
  {
   "cell_type": "code",
   "execution_count": 30,
   "metadata": {},
   "outputs": [
    {
     "data": {
      "image/png": "[encoded data removed]",
      "text/latex": [
       "$\\displaystyle \\left[\\begin{matrix}26\\\\41\\end{matrix}\\right]$"
      ],
      "text/plain": [
       "⎡26⎤\n",
       "⎢  ⎥\n",
       "⎣41⎦"
      ]
     },
     "execution_count": 30,
     "metadata": {},
     "output_type": "execute_result"
    }
   ],
   "source": [
    "# c)\n",
    "A*B*v"
   ]
  },
  {
   "cell_type": "code",
   "execution_count": 31,
   "metadata": {},
   "outputs": [
    {
     "data": {
      "image/png": "[encoded data removed]",
      "text/latex": [
       "$\\displaystyle \\left[\\begin{matrix}-7\\\\63\\end{matrix}\\right]$"
      ],
      "text/plain": [
       "⎡-7⎤\n",
       "⎢  ⎥\n",
       "⎣63⎦"
      ]
     },
     "execution_count": 31,
     "metadata": {},
     "output_type": "execute_result"
    }
   ],
   "source": [
    "# d)\n",
    "B*A*v"
   ]
  },
  {
   "cell_type": "code",
   "execution_count": 32,
   "metadata": {},
   "outputs": [
    {
     "data": {
      "image/png": "[encoded data removed]",
      "text/latex": [
       "$\\displaystyle \\left[\\begin{matrix}-15\\\\-32\\end{matrix}\\right]$"
      ],
      "text/plain": [
       "⎡-15⎤\n",
       "⎢   ⎥\n",
       "⎣-32⎦"
      ]
     },
     "execution_count": 32,
     "metadata": {},
     "output_type": "execute_result"
    }
   ],
   "source": [
    "# e)\n",
    "A*w"
   ]
  },
  {
   "cell_type": "code",
   "execution_count": 33,
   "metadata": {},
   "outputs": [
    {
     "data": {
      "image/png": "[encoded data removed]",
      "text/latex": [
       "$\\displaystyle \\left[\\begin{matrix}3\\\\-21\\end{matrix}\\right]$"
      ],
      "text/plain": [
       "⎡ 3 ⎤\n",
       "⎢   ⎥\n",
       "⎣-21⎦"
      ]
     },
     "execution_count": 33,
     "metadata": {},
     "output_type": "execute_result"
    }
   ],
   "source": [
    "# f)\n",
    "B*w"
   ]
  },
  {
   "cell_type": "markdown",
   "metadata": {},
   "source": [
    "### E2.3\n",
    "\n",
    "Find the components $v_1$ and $v_2$ of the vector $\\vec{v} =\\begin{bsmallmatrix}v_1 \\\\ v_2\\end{bsmallmatrix}$ so that $E\\vec{v} = 3 \\vec{e}_2 - 2\\vec{e}_1$, where $E$ is the following matrix:\n",
    "\n",
    "$$\n",
    "  E\n",
    "  =  \\;\n",
    "    \\begin{bmatrix}\n",
    "    | & | \\\\\n",
    "    \\vec{e}_1 & \\vec{e}_2 \\\\\n",
    "    | & | \n",
    "    \\end{bmatrix}\\!.\n",
    "$$\n",
    "\n",
    "\n",
    "#### Answer\n",
    "$v_1=-2$, $v_2=3$."
   ]
  },
  {
   "cell_type": "code",
   "execution_count": null,
   "metadata": {},
   "outputs": [],
   "source": []
  },
  {
   "cell_type": "code",
   "execution_count": null,
   "metadata": {},
   "outputs": [],
   "source": []
  },
  {
   "cell_type": "markdown",
   "metadata": {},
   "source": [
    "## Vector operations"
   ]
  },
  {
   "cell_type": "markdown",
   "metadata": {},
   "source": [
    "### E2.4\n",
    "\n",
    "Given the vectors $\\vec{u}=(1,1,0)$ and $\\vec{v}=(0,0,3)$, compute the following vector expressions: \n",
    " **a)** $\\vec{u}+\\vec{v}$ **b)** $\\vec{u}-\\vec{v}$ **c)** $3\\vec{u}+\\vec{v}$ **d)** $\\| \\vec{u} \\|$\n",
    "\n",
    "\n",
    "#### Answer\n",
    " **a)** $(1,1,3)$;  **b)** $(1,1,-3)$;  **c)** $(3,3,3)$;  **d)** $\\sqrt{2}$.\n"
   ]
  },
  {
   "cell_type": "code",
   "execution_count": null,
   "metadata": {},
   "outputs": [],
   "source": []
  },
  {
   "cell_type": "code",
   "execution_count": null,
   "metadata": {},
   "outputs": [],
   "source": []
  },
  {
   "cell_type": "markdown",
   "metadata": {},
   "source": [
    "### E2.5\n",
    "\n",
    "Given $\\vec{v}= (1, 2, 3)$ and $\\vec{w}=(0, 1, 1)$, compute the following vector products:\n",
    "\n",
    " - **a)** $\\vec{v} \\cdot \\vec{w}$;\n",
    " - **b)** $\\vec{v} \\times \\vec{w}$;\n",
    " - **c)** $\\vec{w} \\times \\vec{v}$;\n",
    " - **d)** $\\vec{w} \\times \\vec{w}$. \n",
    "\n",
    "#### Answer\n",
    " **a)** $5$;  **b)** $(-1, -1, 1)$;  **c)** $(1,1,-1)$;  **d)** $(0, 0, 0)$.\n"
   ]
  },
  {
   "cell_type": "code",
   "execution_count": null,
   "metadata": {},
   "outputs": [],
   "source": []
  },
  {
   "cell_type": "code",
   "execution_count": null,
   "metadata": {},
   "outputs": [],
   "source": []
  },
  {
   "cell_type": "markdown",
   "metadata": {},
   "source": [
    "### E2.6 \n",
    "\n",
    "\n",
    "For each of the following vectors, $\\vec{v}_1 = 10\\angle 10^{\\circ}$, $\\vec{v}_2 = 10\\angle 30^{\\circ}$, $\\vec{v}_3 = 10\\angle 60^{\\circ}$, $\\vec{v}_4 = 10\\angle 120^{\\circ}$,  complete the following tasks: \n",
    "\n",
    " - a)  Draw the vector in a Cartesian plane. \n",
    " - b)  Compute the vector's $x$- and $y$-coordinates. \n",
    " - c)  Compute the projection of the vector in the direction $\\hat{\\imath}$. Your answer should be a vector quantity. \n",
    " - d)  Compute the projection of the vector in the direction $\\hat{\\jmath}$. \n",
    " - e)  Compute the projection of the vector in the direction $\\vec{d}=(1,1)$, and find the length of the projection. \n",
    "\n",
    "**Hint**:  Recall the formula for the projection of the vector $\\vec{v}$ in the direction $\\vec{d}$ is defined as $\\Pi_{\\vec{d}}(\\vec{v}) = \\Big(\\frac{ \\vec{d}\\,\\cdot \\, \\vec{v} }{ \\|\\vec{d}\\|^2 } \\Big) \\vec{d}$. \n",
    "\n",
    "#### Answer\n",
    "\n",
    "\n",
    " - a) This part has been omitted for brevity. \n",
    " - b) $\\vec{v}_1 = (9.848, 1.736)$; $\\vec{v}_2 = (8.66, 5)$; $\\vec{v}_3 = (5, 8.66)$; $\\vec{v}_4 = (-5, 8.66)$. \n",
    " - c) $\\Pi_{\\hat{\\imath}}(\\vec{v}_1) = 9.848$; $\\Pi_{\\hat{\\imath}}(\\vec{v}_2) = 8.66$; $\\Pi_{\\hat{\\imath}}(\\vec{v}_3) = 5$; $\\Pi_{\\hat{\\imath}}(\\vec{v}_4) = -5$. \n",
    " - d) $\\Pi_{\\hat{\\jmath}}(\\vec{v}_1) = 1.736$; $\\Pi_{\\hat{\\jmath}}(\\vec{v}_2) = 5$; $\\Pi_{\\hat{\\jmath}}(\\vec{v}_3) = 8.66$; $\\Pi_{\\hat{\\jmath}}(\\vec{v}_4) = 8.66$. \n",
    " - e) $\\Pi_{\\vec{d}}(\\vec{v}_1) = (5.79, 5.79)$ and $\\| \\Pi_{\\vec{d}}(\\vec{v}_1) \\| = 8.19$; $\\Pi_{\\vec{d}}(\\vec{v}_2) = (6.83,6.83)$ and $\\| \\Pi_{\\vec{d}}(\\vec{v}_2) \\| = 9.66$; $\\Pi_{\\vec{d}}(\\vec{v}_3) = (6.83,6.83)$ and $\\| \\Pi_{\\vec{d}}(\\vec{v}_3) \\| = 9.66$; $\\Pi_{\\vec{d}}(\\vec{v}_4) = (1.83,1.83)$ and $\\| \\Pi_{\\vec{d}}(\\vec{v}_4) \\| = 2.59$. \n"
   ]
  },
  {
   "cell_type": "code",
   "execution_count": null,
   "metadata": {},
   "outputs": [],
   "source": []
  },
  {
   "cell_type": "code",
   "execution_count": null,
   "metadata": {},
   "outputs": [],
   "source": []
  },
  {
   "cell_type": "markdown",
   "metadata": {},
   "source": [
    "## Matrix operations"
   ]
  },
  {
   "cell_type": "markdown",
   "metadata": {},
   "source": [
    "### E2.7\n",
    "\n",
    "\n",
    "Given the matrices $A = \\begin{bsmallmatrix} 3 & 4 \\\\ 2 & 1 \\end{bsmallmatrix}$, $B = \\begin{bsmallmatrix} -1 & 0 & 1 & 2 \\\\ 4 & 3 & 2 & 1 \\end{bsmallmatrix}$, and $C = \\begin{bsmallmatrix}  -2 & 3 & \\,0 \\\\ 2 & \\!-2 & \\,1\\end{bsmallmatrix}$, compute the expressions. \n",
    "\n",
    " - a) $A^{\\mathsf{T}}$\n",
    " - b) $C^{\\mathsf{T}}$\n",
    " - c) $A^2$\n",
    " - d) $AB$\n",
    " - e) $AC$\n",
    " - f) $BA$\n",
    " - g) $C^{\\mathsf{T}} \\!A$\n",
    " - h) $\\det(A)$\n",
    " - i) $\\det(B)$\n",
    " - j) $\\det(C)$\n",
    " - k) $\\det(A^{\\mathsf{T}})$\n",
    " - l) $\\det(AA^{-1})$\n",
    " - m) $\\textup{Tr}(A)$\n",
    " - n) $\\textup{Tr}(A^{\\mathsf{T}})$\n",
    "\n",
    "**Hint**:  Some of these expressions may not exist. \n",
    "\n",
    "#### Answer\n",
    "\n",
    "\n",
    " - a) $\\begin{bsmallmatrix}3 & 2\\\\ 4 & 1\\end{bsmallmatrix}$; \n",
    " - b) $\\begin{bsmallmatrix}-2 & 2\\\\3 & -2\\\\0 & 1\\end{bsmallmatrix}$; \n",
    " - c) $\\begin{bsmallmatrix}17 & 16\\\\8 & 9\\end{bsmallmatrix}$; \n",
    " - d) $\\begin{bsmallmatrix}13 & 12 & 11 & 10\\\\2 & 3 & 4 & 5\\end{bsmallmatrix}$; \n",
    " - e) $\\begin{bsmallmatrix}2 & 1 & 4\\\\-2 & 4 & 1\\end{bsmallmatrix}$; \n",
    " - f)  Doesn't exist; \n",
    " - g) $\\begin{bsmallmatrix}-2 & -6\\\\5 & 10\\\\2 & 1\\end{bsmallmatrix}$; \n",
    " - h) $-5$; \n",
    " - i)  Doesn't exist; \n",
    " - j)  Doesn't exist; \n",
    " - k) $-5$; \n",
    " - l) $1$; \n",
    " - m) $4$; \n",
    " - n) $4$. "
   ]
  },
  {
   "cell_type": "code",
   "execution_count": null,
   "metadata": {},
   "outputs": [],
   "source": []
  },
  {
   "cell_type": "code",
   "execution_count": null,
   "metadata": {},
   "outputs": [],
   "source": []
  },
  {
   "cell_type": "markdown",
   "metadata": {},
   "source": [
    "### E2.8\n",
    "\n",
    "Given the $1\\times 3$ matrices (row vectors) $\\vec{u} = (1,2,3)$ and $\\vec{v} = (2,-1,0)$, compute the following products: \n",
    "\n",
    " - a) $\\vec{u}\\,\\vec{u}^{\\mathsf{T}}$\n",
    " - b) $\\vec{v}\\,\\vec{v}^{\\mathsf{T}}$\n",
    " - c) $\\vec{u}\\,\\vec{v}^{\\mathsf{T}}$\n",
    " - d) $\\vec{u}^{\\mathsf{T}} \\vec{u}$\n",
    " - e) $\\vec{v}^{\\mathsf{T}} \\vec{v}$\n",
    " - f) $\\vec{u}^{\\mathsf{T}} \\vec{v}$\n",
    "\n",
    "**Hint**:  The transpose of a $1 \\times 3$ row vector is a $3\\times 1$ column vector. \n",
    "\n",
    "#### Answer\n",
    "\n",
    "\n",
    " - a) $14$; \n",
    " - b) $5$; \n",
    " - c) $0$; \n",
    " - d) $\\begin{bsmallmatrix}1 & 2 & 3\\\\2 & 4 & 6\\\\3 & 6 & 9\\end{bsmallmatrix}$; \n",
    " - e) $\\begin{bsmallmatrix}4 & -2 & 0\\\\-2 & 1 & 0\\\\0 & 0 & 0\\end{bsmallmatrix}$; \n",
    " - f) $\\begin{bsmallmatrix}2 & -1 & 0\\\\4 & -2 & 0\\\\6 & -3 & 0\\end{bsmallmatrix}$. \n"
   ]
  },
  {
   "cell_type": "code",
   "execution_count": null,
   "metadata": {},
   "outputs": [],
   "source": []
  },
  {
   "cell_type": "code",
   "execution_count": null,
   "metadata": {},
   "outputs": [],
   "source": []
  },
  {
   "cell_type": "markdown",
   "metadata": {},
   "source": [
    "### E2.9\n",
    "\n",
    "Find the unknowns $\\alpha$ and $\\beta$ in the equation $\\begin{bsmallmatrix}2 & \\alpha \\\\ \\beta & -3\\end{bsmallmatrix}\n",
    "\\begin{bsmallmatrix}1 \\\\[0.5mm] 4\\end{bsmallmatrix}=\\begin{bsmallmatrix}0 \\\\[0.5mm] 0\\end{bsmallmatrix}$. \n",
    "\n",
    "#### Answer\n",
    "$\\alpha=-\\frac{1}{2}$and $\\beta = 12$."
   ]
  },
  {
   "cell_type": "code",
   "execution_count": null,
   "metadata": {},
   "outputs": [],
   "source": []
  },
  {
   "cell_type": "code",
   "execution_count": null,
   "metadata": {},
   "outputs": [],
   "source": []
  },
  {
   "cell_type": "markdown",
   "metadata": {},
   "source": [
    "## Linearity"
   ]
  },
  {
   "cell_type": "markdown",
   "metadata": {},
   "source": [
    "### E2.10\n",
    "\n",
    "Are these expressions linear in the variables $x$, $y$, and $z$?\n",
    "\n",
    "- a) $2x+5y + \\sqrt{m}z$\n",
    "- b) $10\\sqrt{x} + 2(y+z)$\n",
    "- c) $42x + a^2\\sin(\\frac{\\pi}{3})y + z\\cos(\\frac{\\pi}{3})$\n",
    "\n",
    "#### Answer\n",
    "\n",
    "\n",
    " - a) Yes; \n",
    " - b)  No; \n",
    " - c)  Yes. \n",
    "\n",
    "#### Solution\n",
    "An expression is linear in the variable $v$ if it contains $v$ raised only to the first power. This is the case for the first and third expressions but not the second, since it contains $\\sqrt{x} = x^{\\frac{1}{2}}$. "
   ]
  },
  {
   "cell_type": "code",
   "execution_count": 14,
   "metadata": {},
   "outputs": [],
   "source": [
    "x, y, z, m, a = symbols('x y z m a')\n",
    "alpha, beta, gamma = symbols(r'\\alpha \\beta \\gamma')"
   ]
  },
  {
   "cell_type": "code",
   "execution_count": 24,
   "metadata": {},
   "outputs": [
    {
     "data": {
      "text/plain": [
       "True"
      ]
     },
     "execution_count": 24,
     "metadata": {},
     "output_type": "execute_result"
    }
   ],
   "source": [
    "# a)\n",
    "expra = 2*x + 5*y + sqrt(m)*z\n",
    "expra.subs({\"x\":alpha*x, \"y\":0, \"z\":0}) == alpha*expra.subs({\"x\":x, \"y\":0, \"z\":0})"
   ]
  },
  {
   "cell_type": "markdown",
   "metadata": {},
   "source": [
    "So `expra` is linear in $x$."
   ]
  },
  {
   "cell_type": "code",
   "execution_count": 25,
   "metadata": {},
   "outputs": [
    {
     "data": {
      "text/plain": [
       "True"
      ]
     },
     "execution_count": 25,
     "metadata": {},
     "output_type": "execute_result"
    }
   ],
   "source": [
    "expra.subs({\"x\":0, \"y\":beta*y, \"z\":0}) == beta * expra.subs({\"x\":0, \"y\":y, \"z\":0})"
   ]
  },
  {
   "cell_type": "code",
   "execution_count": 26,
   "metadata": {},
   "outputs": [
    {
     "data": {
      "text/plain": [
       "Ellipsis"
      ]
     },
     "execution_count": 26,
     "metadata": {},
     "output_type": "execute_result"
    }
   ],
   "source": [
    "..."
   ]
  },
  {
   "cell_type": "code",
   "execution_count": null,
   "metadata": {},
   "outputs": [],
   "source": []
  }
 ],
 "metadata": {
  "kernelspec": {
   "display_name": "Python 3 (ipykernel)",
   "language": "python",
   "name": "python3"
  },
  "language_info": {
   "codemirror_mode": {
    "name": "ipython",
    "version": 3
   },
   "file_extension": ".py",
   "mimetype": "text/x-python",
   "name": "python",
   "nbconvert_exporter": "python",
   "pygments_lexer": "ipython3",
   "version": "3.9.4"
  }
 },
 "nbformat": 4,
 "nbformat_minor": 4
}
